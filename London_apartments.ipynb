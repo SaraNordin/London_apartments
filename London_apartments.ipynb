{
 "cells": [
  {
   "cell_type": "code",
   "execution_count": 2,
   "metadata": {},
   "outputs": [],
   "source": [
    "import numpy as np\n",
    "from rightmove_webscraper import RightmoveData\n",
    "from IPython.display import display"
   ]
  },
  {
   "cell_type": "markdown",
   "metadata": {},
   "source": [
    "Webscraper taken from https://github.com/toby-p/rightmove_webscraper.py"
   ]
  },
  {
   "cell_type": "code",
   "execution_count": 3,
   "metadata": {},
   "outputs": [],
   "source": [
    "url = \"https://www.rightmove.co.uk/property-to-rent/find.html?searchType=RENT&locationIdentifier=STATION%5E3431&insId=1&radius=5.0&minPrice=&maxPrice=&minBedrooms=&maxBedrooms=&displayPropertyType=flats&maxDaysSinceAdded=&sortByPriceDescending=&_includeLetAgreed=on&primaryDisplayPropertyType=&secondaryDisplayPropertyType=&oldDisplayPropertyType=&oldPrimaryDisplayPropertyType=&letType=&letFurnishType=&houseFlatShare=\"\n",
    "rm = RightmoveData(url)"
   ]
  },
  {
   "cell_type": "code",
   "execution_count": 4,
   "metadata": {},
   "outputs": [],
   "source": [
    "# Refresh data\n",
    "rm.refresh_data()"
   ]
  },
  {
   "cell_type": "code",
   "execution_count": 5,
   "metadata": {},
   "outputs": [
    {
     "data": {
      "text/plain": [
       "2155.992380952381"
      ]
     },
     "execution_count": 5,
     "metadata": {},
     "output_type": "execute_result"
    }
   ],
   "source": [
    "# average price for the search\n",
    "rm.average_price\n",
    "\n",
    "# How many pages is the search result?\n",
    "# rm.page_count\n",
    "\n",
    "# Is the search for rental or sale?\n",
    "# rm.rent_or_sale"
   ]
  },
  {
   "cell_type": "code",
   "execution_count": 6,
   "metadata": {},
   "outputs": [
    {
     "data": {
      "text/plain": [
       "1050"
      ]
     },
     "execution_count": 6,
     "metadata": {},
     "output_type": "execute_result"
    }
   ],
   "source": [
    "# number of search results\n",
    "rm.results_count"
   ]
  },
  {
   "cell_type": "code",
   "execution_count": 7,
   "metadata": {},
   "outputs": [
    {
     "data": {
      "text/html": [
       "<div>\n",
       "<style scoped>\n",
       "    .dataframe tbody tr th:only-of-type {\n",
       "        vertical-align: middle;\n",
       "    }\n",
       "\n",
       "    .dataframe tbody tr th {\n",
       "        vertical-align: top;\n",
       "    }\n",
       "\n",
       "    .dataframe thead th {\n",
       "        text-align: right;\n",
       "    }\n",
       "</style>\n",
       "<table border=\"1\" class=\"dataframe\">\n",
       "  <thead>\n",
       "    <tr style=\"text-align: right;\">\n",
       "      <th></th>\n",
       "      <th>number_bedrooms</th>\n",
       "      <th>count</th>\n",
       "      <th>mean</th>\n",
       "    </tr>\n",
       "  </thead>\n",
       "  <tbody>\n",
       "    <tr>\n",
       "      <th>0</th>\n",
       "      <td>0</td>\n",
       "      <td>90</td>\n",
       "      <td>1287.555556</td>\n",
       "    </tr>\n",
       "    <tr>\n",
       "      <th>1</th>\n",
       "      <td>1</td>\n",
       "      <td>384</td>\n",
       "      <td>1633.507812</td>\n",
       "    </tr>\n",
       "    <tr>\n",
       "      <th>2</th>\n",
       "      <td>2</td>\n",
       "      <td>389</td>\n",
       "      <td>2322.755784</td>\n",
       "    </tr>\n",
       "    <tr>\n",
       "      <th>3</th>\n",
       "      <td>3</td>\n",
       "      <td>148</td>\n",
       "      <td>3182.148649</td>\n",
       "    </tr>\n",
       "    <tr>\n",
       "      <th>4</th>\n",
       "      <td>4</td>\n",
       "      <td>28</td>\n",
       "      <td>4400.071429</td>\n",
       "    </tr>\n",
       "    <tr>\n",
       "      <th>5</th>\n",
       "      <td>5</td>\n",
       "      <td>5</td>\n",
       "      <td>4436.600000</td>\n",
       "    </tr>\n",
       "  </tbody>\n",
       "</table>\n",
       "</div>"
      ],
      "text/plain": [
       "   number_bedrooms  count         mean\n",
       "0                0     90  1287.555556\n",
       "1                1    384  1633.507812\n",
       "2                2    389  2322.755784\n",
       "3                3    148  3182.148649\n",
       "4                4     28  4400.071429\n",
       "5                5      5  4436.600000"
      ]
     },
     "metadata": {},
     "output_type": "display_data"
    },
    {
     "data": {
      "text/html": [
       "<div>\n",
       "<style scoped>\n",
       "    .dataframe tbody tr th:only-of-type {\n",
       "        vertical-align: middle;\n",
       "    }\n",
       "\n",
       "    .dataframe tbody tr th {\n",
       "        vertical-align: top;\n",
       "    }\n",
       "\n",
       "    .dataframe thead th {\n",
       "        text-align: right;\n",
       "    }\n",
       "</style>\n",
       "<table border=\"1\" class=\"dataframe\">\n",
       "  <thead>\n",
       "    <tr style=\"text-align: right;\">\n",
       "      <th></th>\n",
       "      <th>postcode</th>\n",
       "      <th>count</th>\n",
       "      <th>mean</th>\n",
       "    </tr>\n",
       "  </thead>\n",
       "  <tbody>\n",
       "    <tr>\n",
       "      <th>0</th>\n",
       "      <td>E14</td>\n",
       "      <td>69</td>\n",
       "      <td>1806.202899</td>\n",
       "    </tr>\n",
       "    <tr>\n",
       "      <th>1</th>\n",
       "      <td>SE1</td>\n",
       "      <td>45</td>\n",
       "      <td>1918.844444</td>\n",
       "    </tr>\n",
       "    <tr>\n",
       "      <th>2</th>\n",
       "      <td>N1</td>\n",
       "      <td>37</td>\n",
       "      <td>1831.189189</td>\n",
       "    </tr>\n",
       "    <tr>\n",
       "      <th>3</th>\n",
       "      <td>NW1</td>\n",
       "      <td>36</td>\n",
       "      <td>2255.388889</td>\n",
       "    </tr>\n",
       "    <tr>\n",
       "      <th>4</th>\n",
       "      <td>E1</td>\n",
       "      <td>32</td>\n",
       "      <td>1899.593750</td>\n",
       "    </tr>\n",
       "  </tbody>\n",
       "</table>\n",
       "</div>"
      ],
      "text/plain": [
       "  postcode  count         mean\n",
       "0      E14     69  1806.202899\n",
       "1      SE1     45  1918.844444\n",
       "2       N1     37  1831.189189\n",
       "3      NW1     36  2255.388889\n",
       "4       E1     32  1899.593750"
      ]
     },
     "metadata": {},
     "output_type": "display_data"
    }
   ],
   "source": [
    "# Summary of results\n",
    "display(rm.summary())\n",
    "\n",
    "# summary of results, by postcode\n",
    "display(rm.summary(by = \"postcode\").head())"
   ]
  },
  {
   "cell_type": "code",
   "execution_count": 8,
   "metadata": {},
   "outputs": [
    {
     "data": {
      "text/html": [
       "<div>\n",
       "<style scoped>\n",
       "    .dataframe tbody tr th:only-of-type {\n",
       "        vertical-align: middle;\n",
       "    }\n",
       "\n",
       "    .dataframe tbody tr th {\n",
       "        vertical-align: top;\n",
       "    }\n",
       "\n",
       "    .dataframe thead th {\n",
       "        text-align: right;\n",
       "    }\n",
       "</style>\n",
       "<table border=\"1\" class=\"dataframe\">\n",
       "  <thead>\n",
       "    <tr style=\"text-align: right;\">\n",
       "      <th></th>\n",
       "      <th>price</th>\n",
       "      <th>type</th>\n",
       "      <th>address</th>\n",
       "      <th>url</th>\n",
       "      <th>agent_url</th>\n",
       "      <th>postcode</th>\n",
       "      <th>number_bedrooms</th>\n",
       "      <th>search_date</th>\n",
       "    </tr>\n",
       "  </thead>\n",
       "  <tbody>\n",
       "    <tr>\n",
       "      <th>0</th>\n",
       "      <td>2396.0</td>\n",
       "      <td>2 bedroom apartment</td>\n",
       "      <td>South Quay Square, London, E14</td>\n",
       "      <td>http://www.rightmove.co.uk/property-to-rent/pr...</td>\n",
       "      <td>http://www.rightmove.co.uk/estate-agents/agent...</td>\n",
       "      <td>E14</td>\n",
       "      <td>2.0</td>\n",
       "      <td>2020-11-19 22:08:18.027557</td>\n",
       "    </tr>\n",
       "    <tr>\n",
       "      <th>1</th>\n",
       "      <td>1582.0</td>\n",
       "      <td>1 bedroom apartment</td>\n",
       "      <td>River Heights, Stratford Riverside, Stratford E15</td>\n",
       "      <td>http://www.rightmove.co.uk/property-to-rent/pr...</td>\n",
       "      <td>http://www.rightmove.co.uk/estate-agents/agent...</td>\n",
       "      <td>E15</td>\n",
       "      <td>1.0</td>\n",
       "      <td>2020-11-19 22:08:18.027557</td>\n",
       "    </tr>\n",
       "    <tr>\n",
       "      <th>2</th>\n",
       "      <td>2145.0</td>\n",
       "      <td>2 bedroom apartment</td>\n",
       "      <td>Medway Street, Westminster, SW1P</td>\n",
       "      <td>http://www.rightmove.co.uk/property-to-rent/pr...</td>\n",
       "      <td>http://www.rightmove.co.uk/estate-agents/agent...</td>\n",
       "      <td>SW1P</td>\n",
       "      <td>2.0</td>\n",
       "      <td>2020-11-19 22:08:18.027557</td>\n",
       "    </tr>\n",
       "    <tr>\n",
       "      <th>3</th>\n",
       "      <td>1200.0</td>\n",
       "      <td>1 bedroom flat</td>\n",
       "      <td>Mare Street, London, E8</td>\n",
       "      <td>http://www.rightmove.co.uk/property-to-rent/pr...</td>\n",
       "      <td>http://www.rightmove.co.uk/estate-agents/agent...</td>\n",
       "      <td>E8</td>\n",
       "      <td>1.0</td>\n",
       "      <td>2020-11-19 22:08:18.027557</td>\n",
       "    </tr>\n",
       "    <tr>\n",
       "      <th>4</th>\n",
       "      <td>1798.0</td>\n",
       "      <td>1 bedroom apartment</td>\n",
       "      <td>Forset Court, Edgware Road, London W2</td>\n",
       "      <td>http://www.rightmove.co.uk/property-to-rent/pr...</td>\n",
       "      <td>http://www.rightmove.co.uk/estate-agents/agent...</td>\n",
       "      <td>W2</td>\n",
       "      <td>1.0</td>\n",
       "      <td>2020-11-19 22:08:18.027557</td>\n",
       "    </tr>\n",
       "  </tbody>\n",
       "</table>\n",
       "</div>"
      ],
      "text/plain": [
       "    price                 type  \\\n",
       "0  2396.0  2 bedroom apartment   \n",
       "1  1582.0  1 bedroom apartment   \n",
       "2  2145.0  2 bedroom apartment   \n",
       "3  1200.0       1 bedroom flat   \n",
       "4  1798.0  1 bedroom apartment   \n",
       "\n",
       "                                             address  \\\n",
       "0                     South Quay Square, London, E14   \n",
       "1  River Heights, Stratford Riverside, Stratford E15   \n",
       "2                   Medway Street, Westminster, SW1P   \n",
       "3                            Mare Street, London, E8   \n",
       "4              Forset Court, Edgware Road, London W2   \n",
       "\n",
       "                                                 url  \\\n",
       "0  http://www.rightmove.co.uk/property-to-rent/pr...   \n",
       "1  http://www.rightmove.co.uk/property-to-rent/pr...   \n",
       "2  http://www.rightmove.co.uk/property-to-rent/pr...   \n",
       "3  http://www.rightmove.co.uk/property-to-rent/pr...   \n",
       "4  http://www.rightmove.co.uk/property-to-rent/pr...   \n",
       "\n",
       "                                           agent_url postcode  \\\n",
       "0  http://www.rightmove.co.uk/estate-agents/agent...      E14   \n",
       "1  http://www.rightmove.co.uk/estate-agents/agent...      E15   \n",
       "2  http://www.rightmove.co.uk/estate-agents/agent...     SW1P   \n",
       "3  http://www.rightmove.co.uk/estate-agents/agent...       E8   \n",
       "4  http://www.rightmove.co.uk/estate-agents/agent...       W2   \n",
       "\n",
       "   number_bedrooms                search_date  \n",
       "0              2.0 2020-11-19 22:08:18.027557  \n",
       "1              1.0 2020-11-19 22:08:18.027557  \n",
       "2              2.0 2020-11-19 22:08:18.027557  \n",
       "3              1.0 2020-11-19 22:08:18.027557  \n",
       "4              1.0 2020-11-19 22:08:18.027557  "
      ]
     },
     "execution_count": 8,
     "metadata": {},
     "output_type": "execute_result"
    }
   ],
   "source": [
    "apartments_df = rm.get_results\n",
    "apartments_df.head()"
   ]
  },
  {
   "cell_type": "code",
   "execution_count": 9,
   "metadata": {},
   "outputs": [
    {
     "data": {
      "text/plain": [
       "1 bedroom flat         247\n",
       "2 bedroom flat         223\n",
       "2 bedroom apartment    151\n",
       "1 bedroom apartment    130\n",
       "3 bedroom flat          85\n",
       "Name: type, dtype: int64"
      ]
     },
     "execution_count": 9,
     "metadata": {},
     "output_type": "execute_result"
    }
   ],
   "source": [
    "apartments_df.type.value_counts().head()"
   ]
  },
  {
   "cell_type": "code",
   "execution_count": 10,
   "metadata": {},
   "outputs": [
    {
     "data": {
      "text/html": [
       "<div>\n",
       "<style scoped>\n",
       "    .dataframe tbody tr th:only-of-type {\n",
       "        vertical-align: middle;\n",
       "    }\n",
       "\n",
       "    .dataframe tbody tr th {\n",
       "        vertical-align: top;\n",
       "    }\n",
       "\n",
       "    .dataframe thead th {\n",
       "        text-align: right;\n",
       "    }\n",
       "</style>\n",
       "<table border=\"1\" class=\"dataframe\">\n",
       "  <thead>\n",
       "    <tr style=\"text-align: right;\">\n",
       "      <th></th>\n",
       "      <th>price</th>\n",
       "      <th>type</th>\n",
       "      <th>address</th>\n",
       "      <th>url</th>\n",
       "      <th>agent_url</th>\n",
       "      <th>postcode</th>\n",
       "      <th>number_bedrooms</th>\n",
       "      <th>search_date</th>\n",
       "    </tr>\n",
       "  </thead>\n",
       "  <tbody>\n",
       "    <tr>\n",
       "      <th>1</th>\n",
       "      <td>1582.0</td>\n",
       "      <td>1 bedroom apartment</td>\n",
       "      <td>River Heights, Stratford Riverside, Stratford E15</td>\n",
       "      <td>http://www.rightmove.co.uk/property-to-rent/pr...</td>\n",
       "      <td>http://www.rightmove.co.uk/estate-agents/agent...</td>\n",
       "      <td>E15</td>\n",
       "      <td>1.0</td>\n",
       "      <td>2020-11-19 22:08:18.027557</td>\n",
       "    </tr>\n",
       "    <tr>\n",
       "      <th>3</th>\n",
       "      <td>1200.0</td>\n",
       "      <td>1 bedroom flat</td>\n",
       "      <td>Mare Street, London, E8</td>\n",
       "      <td>http://www.rightmove.co.uk/property-to-rent/pr...</td>\n",
       "      <td>http://www.rightmove.co.uk/estate-agents/agent...</td>\n",
       "      <td>E8</td>\n",
       "      <td>1.0</td>\n",
       "      <td>2020-11-19 22:08:18.027557</td>\n",
       "    </tr>\n",
       "    <tr>\n",
       "      <th>4</th>\n",
       "      <td>1798.0</td>\n",
       "      <td>1 bedroom apartment</td>\n",
       "      <td>Forset Court, Edgware Road, London W2</td>\n",
       "      <td>http://www.rightmove.co.uk/property-to-rent/pr...</td>\n",
       "      <td>http://www.rightmove.co.uk/estate-agents/agent...</td>\n",
       "      <td>W2</td>\n",
       "      <td>1.0</td>\n",
       "      <td>2020-11-19 22:08:18.027557</td>\n",
       "    </tr>\n",
       "    <tr>\n",
       "      <th>5</th>\n",
       "      <td>1350.0</td>\n",
       "      <td>1 bedroom flat</td>\n",
       "      <td>Mare Street, London, E8</td>\n",
       "      <td>http://www.rightmove.co.uk/property-to-rent/pr...</td>\n",
       "      <td>http://www.rightmove.co.uk/estate-agents/agent...</td>\n",
       "      <td>E8</td>\n",
       "      <td>1.0</td>\n",
       "      <td>2020-11-19 22:08:18.027557</td>\n",
       "    </tr>\n",
       "    <tr>\n",
       "      <th>8</th>\n",
       "      <td>1972.0</td>\n",
       "      <td>2 bedroom flat</td>\n",
       "      <td>Consort Lodge, 34 Prince Albert Road, London, NW8</td>\n",
       "      <td>http://www.rightmove.co.uk/property-to-rent/pr...</td>\n",
       "      <td>http://www.rightmove.co.uk/estate-agents/agent...</td>\n",
       "      <td>NW8</td>\n",
       "      <td>2.0</td>\n",
       "      <td>2020-11-19 22:08:18.027557</td>\n",
       "    </tr>\n",
       "  </tbody>\n",
       "</table>\n",
       "</div>"
      ],
      "text/plain": [
       "    price                 type  \\\n",
       "1  1582.0  1 bedroom apartment   \n",
       "3  1200.0       1 bedroom flat   \n",
       "4  1798.0  1 bedroom apartment   \n",
       "5  1350.0       1 bedroom flat   \n",
       "8  1972.0       2 bedroom flat   \n",
       "\n",
       "                                             address  \\\n",
       "1  River Heights, Stratford Riverside, Stratford E15   \n",
       "3                            Mare Street, London, E8   \n",
       "4              Forset Court, Edgware Road, London W2   \n",
       "5                            Mare Street, London, E8   \n",
       "8  Consort Lodge, 34 Prince Albert Road, London, NW8   \n",
       "\n",
       "                                                 url  \\\n",
       "1  http://www.rightmove.co.uk/property-to-rent/pr...   \n",
       "3  http://www.rightmove.co.uk/property-to-rent/pr...   \n",
       "4  http://www.rightmove.co.uk/property-to-rent/pr...   \n",
       "5  http://www.rightmove.co.uk/property-to-rent/pr...   \n",
       "8  http://www.rightmove.co.uk/property-to-rent/pr...   \n",
       "\n",
       "                                           agent_url postcode  \\\n",
       "1  http://www.rightmove.co.uk/estate-agents/agent...      E15   \n",
       "3  http://www.rightmove.co.uk/estate-agents/agent...       E8   \n",
       "4  http://www.rightmove.co.uk/estate-agents/agent...       W2   \n",
       "5  http://www.rightmove.co.uk/estate-agents/agent...       E8   \n",
       "8  http://www.rightmove.co.uk/estate-agents/agent...      NW8   \n",
       "\n",
       "   number_bedrooms                search_date  \n",
       "1              1.0 2020-11-19 22:08:18.027557  \n",
       "3              1.0 2020-11-19 22:08:18.027557  \n",
       "4              1.0 2020-11-19 22:08:18.027557  \n",
       "5              1.0 2020-11-19 22:08:18.027557  \n",
       "8              2.0 2020-11-19 22:08:18.027557  "
      ]
     },
     "metadata": {},
     "output_type": "display_data"
    },
    {
     "data": {
      "text/plain": [
       "(659, 8)"
      ]
     },
     "execution_count": 10,
     "metadata": {},
     "output_type": "execute_result"
    }
   ],
   "source": [
    "max_rent = 2000\n",
    "\n",
    "apartments_df = apartments_df[apartments_df.price < max_rent]\n",
    "display(apartments_df.head())\n",
    "\n",
    "apartments_df.shape"
   ]
  },
  {
   "cell_type": "code",
   "execution_count": 11,
   "metadata": {
    "scrolled": true
   },
   "outputs": [
    {
     "data": {
      "text/plain": [
       "1.0    312\n",
       "2.0    212\n",
       "0.0     85\n",
       "3.0     43\n",
       "4.0      6\n",
       "Name: number_bedrooms, dtype: int64"
      ]
     },
     "metadata": {},
     "output_type": "display_data"
    },
    {
     "data": {
      "text/plain": [
       "Studio flat         66\n",
       "Studio apartment    19\n",
       "Name: type, dtype: int64"
      ]
     },
     "metadata": {},
     "output_type": "display_data"
    },
    {
     "data": {
      "text/html": [
       "<div>\n",
       "<style scoped>\n",
       "    .dataframe tbody tr th:only-of-type {\n",
       "        vertical-align: middle;\n",
       "    }\n",
       "\n",
       "    .dataframe tbody tr th {\n",
       "        vertical-align: top;\n",
       "    }\n",
       "\n",
       "    .dataframe thead th {\n",
       "        text-align: right;\n",
       "    }\n",
       "</style>\n",
       "<table border=\"1\" class=\"dataframe\">\n",
       "  <thead>\n",
       "    <tr style=\"text-align: right;\">\n",
       "      <th></th>\n",
       "      <th>price</th>\n",
       "      <th>type</th>\n",
       "      <th>address</th>\n",
       "      <th>url</th>\n",
       "      <th>agent_url</th>\n",
       "      <th>postcode</th>\n",
       "      <th>number_bedrooms</th>\n",
       "      <th>search_date</th>\n",
       "    </tr>\n",
       "  </thead>\n",
       "  <tbody>\n",
       "    <tr>\n",
       "      <th>1</th>\n",
       "      <td>1582.0</td>\n",
       "      <td>1 bedroom apartment</td>\n",
       "      <td>River Heights, Stratford Riverside, Stratford E15</td>\n",
       "      <td>http://www.rightmove.co.uk/property-to-rent/pr...</td>\n",
       "      <td>http://www.rightmove.co.uk/estate-agents/agent...</td>\n",
       "      <td>E15</td>\n",
       "      <td>1.0</td>\n",
       "      <td>2020-11-19 22:08:18.027557</td>\n",
       "    </tr>\n",
       "    <tr>\n",
       "      <th>3</th>\n",
       "      <td>1200.0</td>\n",
       "      <td>1 bedroom flat</td>\n",
       "      <td>Mare Street, London, E8</td>\n",
       "      <td>http://www.rightmove.co.uk/property-to-rent/pr...</td>\n",
       "      <td>http://www.rightmove.co.uk/estate-agents/agent...</td>\n",
       "      <td>E8</td>\n",
       "      <td>1.0</td>\n",
       "      <td>2020-11-19 22:08:18.027557</td>\n",
       "    </tr>\n",
       "    <tr>\n",
       "      <th>4</th>\n",
       "      <td>1798.0</td>\n",
       "      <td>1 bedroom apartment</td>\n",
       "      <td>Forset Court, Edgware Road, London W2</td>\n",
       "      <td>http://www.rightmove.co.uk/property-to-rent/pr...</td>\n",
       "      <td>http://www.rightmove.co.uk/estate-agents/agent...</td>\n",
       "      <td>W2</td>\n",
       "      <td>1.0</td>\n",
       "      <td>2020-11-19 22:08:18.027557</td>\n",
       "    </tr>\n",
       "    <tr>\n",
       "      <th>5</th>\n",
       "      <td>1350.0</td>\n",
       "      <td>1 bedroom flat</td>\n",
       "      <td>Mare Street, London, E8</td>\n",
       "      <td>http://www.rightmove.co.uk/property-to-rent/pr...</td>\n",
       "      <td>http://www.rightmove.co.uk/estate-agents/agent...</td>\n",
       "      <td>E8</td>\n",
       "      <td>1.0</td>\n",
       "      <td>2020-11-19 22:08:18.027557</td>\n",
       "    </tr>\n",
       "    <tr>\n",
       "      <th>8</th>\n",
       "      <td>1972.0</td>\n",
       "      <td>2 bedroom flat</td>\n",
       "      <td>Consort Lodge, 34 Prince Albert Road, London, NW8</td>\n",
       "      <td>http://www.rightmove.co.uk/property-to-rent/pr...</td>\n",
       "      <td>http://www.rightmove.co.uk/estate-agents/agent...</td>\n",
       "      <td>NW8</td>\n",
       "      <td>2.0</td>\n",
       "      <td>2020-11-19 22:08:18.027557</td>\n",
       "    </tr>\n",
       "  </tbody>\n",
       "</table>\n",
       "</div>"
      ],
      "text/plain": [
       "    price                 type  \\\n",
       "1  1582.0  1 bedroom apartment   \n",
       "3  1200.0       1 bedroom flat   \n",
       "4  1798.0  1 bedroom apartment   \n",
       "5  1350.0       1 bedroom flat   \n",
       "8  1972.0       2 bedroom flat   \n",
       "\n",
       "                                             address  \\\n",
       "1  River Heights, Stratford Riverside, Stratford E15   \n",
       "3                            Mare Street, London, E8   \n",
       "4              Forset Court, Edgware Road, London W2   \n",
       "5                            Mare Street, London, E8   \n",
       "8  Consort Lodge, 34 Prince Albert Road, London, NW8   \n",
       "\n",
       "                                                 url  \\\n",
       "1  http://www.rightmove.co.uk/property-to-rent/pr...   \n",
       "3  http://www.rightmove.co.uk/property-to-rent/pr...   \n",
       "4  http://www.rightmove.co.uk/property-to-rent/pr...   \n",
       "5  http://www.rightmove.co.uk/property-to-rent/pr...   \n",
       "8  http://www.rightmove.co.uk/property-to-rent/pr...   \n",
       "\n",
       "                                           agent_url postcode  \\\n",
       "1  http://www.rightmove.co.uk/estate-agents/agent...      E15   \n",
       "3  http://www.rightmove.co.uk/estate-agents/agent...       E8   \n",
       "4  http://www.rightmove.co.uk/estate-agents/agent...       W2   \n",
       "5  http://www.rightmove.co.uk/estate-agents/agent...       E8   \n",
       "8  http://www.rightmove.co.uk/estate-agents/agent...      NW8   \n",
       "\n",
       "   number_bedrooms                search_date  \n",
       "1              1.0 2020-11-19 22:08:18.027557  \n",
       "3              1.0 2020-11-19 22:08:18.027557  \n",
       "4              1.0 2020-11-19 22:08:18.027557  \n",
       "5              1.0 2020-11-19 22:08:18.027557  \n",
       "8              2.0 2020-11-19 22:08:18.027557  "
      ]
     },
     "metadata": {},
     "output_type": "display_data"
    }
   ],
   "source": [
    "display(apartments_df.number_bedrooms.value_counts())\n",
    "\n",
    "# There are no missing number of bedrooms, those are just studio flats! Remove them. \n",
    "display(apartments_df[apartments_df.number_bedrooms == 0].type.value_counts())\n",
    "\n",
    "apartments_df = apartments_df[apartments_df.number_bedrooms != 0]\n",
    "display(apartments_df.head())"
   ]
  },
  {
   "cell_type": "code",
   "execution_count": 12,
   "metadata": {},
   "outputs": [
    {
     "name": "stdout",
     "output_type": "stream",
     "text": [
      "95\n"
     ]
    },
    {
     "ename": "KeyError",
     "evalue": "0",
     "output_type": "error",
     "traceback": [
      "\u001b[1;31m---------------------------------------------------------------------------\u001b[0m",
      "\u001b[1;31mKeyError\u001b[0m                                  Traceback (most recent call last)",
      "\u001b[1;32m<ipython-input-12-94be3537b3c1>\u001b[0m in \u001b[0;36m<module>\u001b[1;34m\u001b[0m\n\u001b[0;32m      6\u001b[0m \u001b[1;31m#(is this a problem? Do we care about listings that don't even include a postcode?)\u001b[0m\u001b[1;33m\u001b[0m\u001b[1;33m\u001b[0m\u001b[1;33m\u001b[0m\u001b[0m\n\u001b[0;32m      7\u001b[0m \u001b[1;33m\u001b[0m\u001b[0m\n\u001b[1;32m----> 8\u001b[1;33m \u001b[0mapartments_df\u001b[0m\u001b[1;33m.\u001b[0m\u001b[0murl\u001b[0m\u001b[1;33m[\u001b[0m\u001b[1;36m0\u001b[0m\u001b[1;33m]\u001b[0m\u001b[1;33m\u001b[0m\u001b[1;33m\u001b[0m\u001b[0m\n\u001b[0m",
      "\u001b[1;32m~\\AppData\\Roaming\\Python\\Python37\\site-packages\\pandas\\core\\series.py\u001b[0m in \u001b[0;36m__getitem__\u001b[1;34m(self, key)\u001b[0m\n\u001b[0;32m    869\u001b[0m         \u001b[0mkey\u001b[0m \u001b[1;33m=\u001b[0m \u001b[0mcom\u001b[0m\u001b[1;33m.\u001b[0m\u001b[0mapply_if_callable\u001b[0m\u001b[1;33m(\u001b[0m\u001b[0mkey\u001b[0m\u001b[1;33m,\u001b[0m \u001b[0mself\u001b[0m\u001b[1;33m)\u001b[0m\u001b[1;33m\u001b[0m\u001b[1;33m\u001b[0m\u001b[0m\n\u001b[0;32m    870\u001b[0m         \u001b[1;32mtry\u001b[0m\u001b[1;33m:\u001b[0m\u001b[1;33m\u001b[0m\u001b[1;33m\u001b[0m\u001b[0m\n\u001b[1;32m--> 871\u001b[1;33m             \u001b[0mresult\u001b[0m \u001b[1;33m=\u001b[0m \u001b[0mself\u001b[0m\u001b[1;33m.\u001b[0m\u001b[0mindex\u001b[0m\u001b[1;33m.\u001b[0m\u001b[0mget_value\u001b[0m\u001b[1;33m(\u001b[0m\u001b[0mself\u001b[0m\u001b[1;33m,\u001b[0m \u001b[0mkey\u001b[0m\u001b[1;33m)\u001b[0m\u001b[1;33m\u001b[0m\u001b[1;33m\u001b[0m\u001b[0m\n\u001b[0m\u001b[0;32m    872\u001b[0m \u001b[1;33m\u001b[0m\u001b[0m\n\u001b[0;32m    873\u001b[0m             \u001b[1;32mif\u001b[0m \u001b[1;32mnot\u001b[0m \u001b[0mis_scalar\u001b[0m\u001b[1;33m(\u001b[0m\u001b[0mresult\u001b[0m\u001b[1;33m)\u001b[0m\u001b[1;33m:\u001b[0m\u001b[1;33m\u001b[0m\u001b[1;33m\u001b[0m\u001b[0m\n",
      "\u001b[1;32m~\\AppData\\Roaming\\Python\\Python37\\site-packages\\pandas\\core\\indexes\\base.py\u001b[0m in \u001b[0;36mget_value\u001b[1;34m(self, series, key)\u001b[0m\n\u001b[0;32m   4402\u001b[0m         \u001b[0mk\u001b[0m \u001b[1;33m=\u001b[0m \u001b[0mself\u001b[0m\u001b[1;33m.\u001b[0m\u001b[0m_convert_scalar_indexer\u001b[0m\u001b[1;33m(\u001b[0m\u001b[0mk\u001b[0m\u001b[1;33m,\u001b[0m \u001b[0mkind\u001b[0m\u001b[1;33m=\u001b[0m\u001b[1;34m\"getitem\"\u001b[0m\u001b[1;33m)\u001b[0m\u001b[1;33m\u001b[0m\u001b[1;33m\u001b[0m\u001b[0m\n\u001b[0;32m   4403\u001b[0m         \u001b[1;32mtry\u001b[0m\u001b[1;33m:\u001b[0m\u001b[1;33m\u001b[0m\u001b[1;33m\u001b[0m\u001b[0m\n\u001b[1;32m-> 4404\u001b[1;33m             \u001b[1;32mreturn\u001b[0m \u001b[0mself\u001b[0m\u001b[1;33m.\u001b[0m\u001b[0m_engine\u001b[0m\u001b[1;33m.\u001b[0m\u001b[0mget_value\u001b[0m\u001b[1;33m(\u001b[0m\u001b[0ms\u001b[0m\u001b[1;33m,\u001b[0m \u001b[0mk\u001b[0m\u001b[1;33m,\u001b[0m \u001b[0mtz\u001b[0m\u001b[1;33m=\u001b[0m\u001b[0mgetattr\u001b[0m\u001b[1;33m(\u001b[0m\u001b[0mseries\u001b[0m\u001b[1;33m.\u001b[0m\u001b[0mdtype\u001b[0m\u001b[1;33m,\u001b[0m \u001b[1;34m\"tz\"\u001b[0m\u001b[1;33m,\u001b[0m \u001b[1;32mNone\u001b[0m\u001b[1;33m)\u001b[0m\u001b[1;33m)\u001b[0m\u001b[1;33m\u001b[0m\u001b[1;33m\u001b[0m\u001b[0m\n\u001b[0m\u001b[0;32m   4405\u001b[0m         \u001b[1;32mexcept\u001b[0m \u001b[0mKeyError\u001b[0m \u001b[1;32mas\u001b[0m \u001b[0me1\u001b[0m\u001b[1;33m:\u001b[0m\u001b[1;33m\u001b[0m\u001b[1;33m\u001b[0m\u001b[0m\n\u001b[0;32m   4406\u001b[0m             \u001b[1;32mif\u001b[0m \u001b[0mlen\u001b[0m\u001b[1;33m(\u001b[0m\u001b[0mself\u001b[0m\u001b[1;33m)\u001b[0m \u001b[1;33m>\u001b[0m \u001b[1;36m0\u001b[0m \u001b[1;32mand\u001b[0m \u001b[1;33m(\u001b[0m\u001b[0mself\u001b[0m\u001b[1;33m.\u001b[0m\u001b[0mholds_integer\u001b[0m\u001b[1;33m(\u001b[0m\u001b[1;33m)\u001b[0m \u001b[1;32mor\u001b[0m \u001b[0mself\u001b[0m\u001b[1;33m.\u001b[0m\u001b[0mis_boolean\u001b[0m\u001b[1;33m(\u001b[0m\u001b[1;33m)\u001b[0m\u001b[1;33m)\u001b[0m\u001b[1;33m:\u001b[0m\u001b[1;33m\u001b[0m\u001b[1;33m\u001b[0m\u001b[0m\n",
      "\u001b[1;32mpandas\\_libs\\index.pyx\u001b[0m in \u001b[0;36mpandas._libs.index.IndexEngine.get_value\u001b[1;34m()\u001b[0m\n",
      "\u001b[1;32mpandas\\_libs\\index.pyx\u001b[0m in \u001b[0;36mpandas._libs.index.IndexEngine.get_value\u001b[1;34m()\u001b[0m\n",
      "\u001b[1;32mpandas\\_libs\\index.pyx\u001b[0m in \u001b[0;36mpandas._libs.index.IndexEngine.get_loc\u001b[1;34m()\u001b[0m\n",
      "\u001b[1;32mpandas\\_libs\\hashtable_class_helper.pxi\u001b[0m in \u001b[0;36mpandas._libs.hashtable.Int64HashTable.get_item\u001b[1;34m()\u001b[0m\n",
      "\u001b[1;32mpandas\\_libs\\hashtable_class_helper.pxi\u001b[0m in \u001b[0;36mpandas._libs.hashtable.Int64HashTable.get_item\u001b[1;34m()\u001b[0m\n",
      "\u001b[1;31mKeyError\u001b[0m: 0"
     ]
    }
   ],
   "source": [
    "# Worst case - filter based on postcode? \n",
    "\n",
    "# This is how many listings are lost because of this!\n",
    "print(apartments_df.postcode.isna().sum())\n",
    "\n",
    "#(is this a problem? Do we care about listings that don't even include a postcode?)\n",
    "\n",
    "apartments_df.url[0]"
   ]
  },
  {
   "cell_type": "code",
   "execution_count": 13,
   "metadata": {},
   "outputs": [
    {
     "data": {
      "text/plain": [
       "http://www.rightmove.co.uk/estate-agents/agent/OpenRent/London-96668.html                                       34\n",
       "http://www.rightmove.co.uk/estate-agents/agent/BPS-London/London-95999.html                                     29\n",
       "http://www.rightmove.co.uk/estate-agents/agent/City-and-Urban/Shoreditch-15508.html                             14\n",
       "http://www.rightmove.co.uk/estate-agents/agent/Foxtons/Earls-Court-108515.html                                   9\n",
       "http://www.rightmove.co.uk/estate-agents/agent/Kinleigh-Folkard-and-Hayward---Lettings/Kennington-57952.html     9\n",
       "                                                                                                                ..\n",
       "http://www.rightmove.co.uk/estate-agents/agent/Dexters/Clerkenwell-6073.html                                     1\n",
       "http://www.rightmove.co.uk/estate-agents/agent/Frank-Harris/South-Bank-and-Waterloo-71137.html                   1\n",
       "http://www.rightmove.co.uk/estate-agents/agent/Liv-International/London-54583.html                               1\n",
       "http://www.rightmove.co.uk/estate-agents/agent/Foxtons/Clerkenwell-73120.html                                    1\n",
       "http://www.rightmove.co.uk/estate-agents/agent/Behr-and-Butchoff/St-Johns-Wood-78397.html                        1\n",
       "Name: agent_url, Length: 281, dtype: int64"
      ]
     },
     "execution_count": 13,
     "metadata": {},
     "output_type": "execute_result"
    }
   ],
   "source": [
    "# List different agents\n",
    "agents_count = apartments_df.agent_url.value_counts()\n",
    "agents_count"
   ]
  },
  {
   "cell_type": "code",
   "execution_count": 14,
   "metadata": {
    "collapsed": true
   },
   "outputs": [
    {
     "data": {
      "text/plain": [
       "http://www.rightmove.co.uk/estate-agents/agent/Dexters/Canary-Wharf-82537.html                              5\n",
       "http://www.rightmove.co.uk/estate-agents/agent/Black-Katz/West-Hampstead-32793.html                         4\n",
       "http://www.rightmove.co.uk/estate-agents/agent/Oliver-Jaques/Surrey-Quays-6843.html                         4\n",
       "http://www.rightmove.co.uk/estate-agents/agent/City-Docklands/London-25214.html                             4\n",
       "http://www.rightmove.co.uk/estate-agents/agent/Dexters/Hyde-Park-and-Bayswater-55362.html                   3\n",
       "http://www.rightmove.co.uk/estate-agents/agent/Vanet-Property-Asset-Management/Canary-Wharf-47285.html      3\n",
       "http://www.rightmove.co.uk/estate-agents/agent/Braithwait/London-60711.html                                 3\n",
       "http://www.rightmove.co.uk/estate-agents/agent/Golden-Eagle-International/London-49332.html                 3\n",
       "http://www.rightmove.co.uk/estate-agents/agent/Parkheath/Belsize-Park-72719.html                            3\n",
       "http://www.rightmove.co.uk/estate-agents/agent/Parkheath/West-Hampstead-72716.html                          3\n",
       "http://www.rightmove.co.uk/estate-agents/agent/Daniel-Watney/London-87247.html                              3\n",
       "http://www.rightmove.co.uk/estate-agents/agent/ea2-Estate-Agency/Wapping-10387.html                         3\n",
       "http://www.rightmove.co.uk/estate-agents/agent/Global-House-Estates/London-74713.html                       2\n",
       "http://www.rightmove.co.uk/estate-agents/agent/Get-Living/East-Village-57558.html                           2\n",
       "http://www.rightmove.co.uk/estate-agents/agent/Douglas-Pryce/Canary-Wharf-227717.html                       2\n",
       "http://www.rightmove.co.uk/estate-agents/agent/Dexters/Shoreditch-157376.html                               2\n",
       "http://www.rightmove.co.uk/estate-agents/agent/Ultra-Estates/London-61592.html                              2\n",
       "http://www.rightmove.co.uk/estate-agents/agent/Living-in-London/Canada-Water-Tube-Station-55268.html        2\n",
       "http://www.rightmove.co.uk/estate-agents/agent/Alex-Crown-Lettings-and-Estate-Agents/London-102122.html     2\n",
       "http://www.rightmove.co.uk/estate-agents/agent/Eden-Harper/Brixton-31836.html                               2\n",
       "http://www.rightmove.co.uk/estate-agents/agent/Filey-Properties/Church-Street---Lettings-54554.html         2\n",
       "http://www.rightmove.co.uk/estate-agents/agent/Dexters/Vauxhall-146498.html                                 2\n",
       "http://www.rightmove.co.uk/estate-agents/agent/Beresford-Residential/Brixton---Lettings-48330.html          2\n",
       "http://www.rightmove.co.uk/estate-agents/agent/1-Click-Homes-Ltd/London-71060.html                          1\n",
       "http://www.rightmove.co.uk/estate-agents/agent/Arlington-Rouse/London-173180.html                           1\n",
       "http://www.rightmove.co.uk/estate-agents/agent/RentLondonFlatcom/London-146147.html                         1\n",
       "http://www.rightmove.co.uk/estate-agents/agent/Hastings-International/Rotherhithe-11351.html                1\n",
       "http://www.rightmove.co.uk/estate-agents/agent/Marble-Property/London---Lettings-178412.html                1\n",
       "http://www.rightmove.co.uk/estate-agents/agent/Dexters/St-Johns-Wood-48695.html                             1\n",
       "http://www.rightmove.co.uk/estate-agents/agent/Dexters/Pimlico-105760.html                                  1\n",
       "http://www.rightmove.co.uk/estate-agents/agent/Parkheath/Kensal-Rise-151640.html                            1\n",
       "http://www.rightmove.co.uk/estate-agents/agent/Dexters/Clerkenwell-6073.html                                1\n",
       "http://www.rightmove.co.uk/estate-agents/agent/Dexters/Fitzrovia-156875.html                                1\n",
       "http://www.rightmove.co.uk/estate-agents/agent/Bennett-Mason/Highbury-108077.html                           1\n",
       "http://www.rightmove.co.uk/estate-agents/agent/Prospect-London/London-197495.html                           1\n",
       "http://www.rightmove.co.uk/estate-agents/agent/Barnard-Marcus-Lettings/Muswell-Hill-Lettings-129652.html    1\n",
       "http://www.rightmove.co.uk/estate-agents/agent/HOBARTS/Alexandra-Park-31274.html                            1\n",
       "http://www.rightmove.co.uk/estate-agents/agent/BlakeStanley-Estate-Agents/Hackney-55792.html                1\n",
       "http://www.rightmove.co.uk/estate-agents/agent/Dexters/Clapham-High-Street-84875.html                       1\n",
       "http://www.rightmove.co.uk/estate-agents/agent/Martin-and-Co/Chelsea-39872.html                             1\n",
       "http://www.rightmove.co.uk/estate-agents/agent/Garrett-Whitelock/London-Bridge-105305.html                  1\n",
       "http://www.rightmove.co.uk/estate-agents/agent/Hunter-and-Bloomfield/London-225419.html                     1\n",
       "http://www.rightmove.co.uk/estate-agents/agent/Choices/Central-London-117484.html                           1\n",
       "http://www.rightmove.co.uk/estate-agents/agent/View-Properties/London-96736.html                            1\n",
       "http://www.rightmove.co.uk/estate-agents/agent/Aspire/North-Clapham-45021.html                              1\n",
       "http://www.rightmove.co.uk/estate-agents/agent/Urban-Lettings/London-41919.html                             1\n",
       "http://www.rightmove.co.uk/estate-agents/agent/A1-Capital-Lettings/London-162371.html                       1\n",
       "http://www.rightmove.co.uk/estate-agents/agent/Dexters/Earls-Court-84830.html                               1\n",
       "http://www.rightmove.co.uk/estate-agents/agent/Ariston-Property/London-21035.html                           1\n",
       "http://www.rightmove.co.uk/estate-agents/agent/David-Astburys-Ltd/London-176261.html                        1\n",
       "http://www.rightmove.co.uk/estate-agents/agent/Gareth-James-Property/Peckham-Rye--Lettings-156608.html      1\n",
       "http://www.rightmove.co.uk/estate-agents/agent/Dexters/Fulham-84794.html                                    1\n",
       "http://www.rightmove.co.uk/estate-agents/agent/Waterview/Waterview-Shad-Thames-198539.html                  1\n",
       "http://www.rightmove.co.uk/estate-agents/agent/Fraser-and-Co/City-Office-163088.html                        1\n",
       "http://www.rightmove.co.uk/estate-agents/agent/Mashroom/Nationwide-77952.html                               1\n",
       "Name: agent_url, dtype: int64"
      ]
     },
     "execution_count": 14,
     "metadata": {},
     "output_type": "execute_result"
    }
   ],
   "source": [
    "agents_na = apartments_df[apartments_df.postcode.isna()].agent_url.value_counts()\n",
    "agents_na\n",
    "\n",
    "# check if any agents are more likely to not give a postcode?"
   ]
  },
  {
   "cell_type": "code",
   "execution_count": 28,
   "metadata": {},
   "outputs": [
    {
     "ename": "AttributeError",
     "evalue": "'list' object has no attribute 'fillna'",
     "output_type": "error",
     "traceback": [
      "\u001b[1;31m---------------------------------------------------------------------------\u001b[0m",
      "\u001b[1;31mAttributeError\u001b[0m                            Traceback (most recent call last)",
      "\u001b[1;32m<ipython-input-28-2ff8d2682bc5>\u001b[0m in \u001b[0;36m<module>\u001b[1;34m\u001b[0m\n\u001b[1;32m----> 1\u001b[1;33m \u001b[0mpostcodes\u001b[0m \u001b[1;33m=\u001b[0m \u001b[0mapartments_df\u001b[0m\u001b[1;33m.\u001b[0m\u001b[0mpostcode\u001b[0m\u001b[1;33m.\u001b[0m\u001b[0mtolist\u001b[0m\u001b[1;33m(\u001b[0m\u001b[1;33m)\u001b[0m\u001b[1;33m.\u001b[0m\u001b[0mfillna\u001b[0m\u001b[1;33m(\u001b[0m\u001b[1;34m\"\"\u001b[0m\u001b[1;33m)\u001b[0m\u001b[1;33m\u001b[0m\u001b[1;33m\u001b[0m\u001b[0m\n\u001b[0m\u001b[0;32m      2\u001b[0m \u001b[1;33m\u001b[0m\u001b[0m\n\u001b[0;32m      3\u001b[0m \u001b[1;32mfor\u001b[0m \u001b[0mcode\u001b[0m \u001b[1;32min\u001b[0m \u001b[0mpostcodes\u001b[0m\u001b[1;33m:\u001b[0m\u001b[1;33m\u001b[0m\u001b[1;33m\u001b[0m\u001b[0m\n\u001b[0;32m      4\u001b[0m     \u001b[1;32mif\u001b[0m \u001b[0mcode\u001b[0m \u001b[1;33m==\u001b[0m \u001b[1;34m\"W2\"\u001b[0m\u001b[1;33m:\u001b[0m\u001b[1;33m\u001b[0m\u001b[1;33m\u001b[0m\u001b[0m\n\u001b[0;32m      5\u001b[0m         \u001b[0mprint\u001b[0m\u001b[1;33m(\u001b[0m\u001b[0mcode\u001b[0m\u001b[1;33m)\u001b[0m\u001b[1;33m\u001b[0m\u001b[1;33m\u001b[0m\u001b[0m\n",
      "\u001b[1;31mAttributeError\u001b[0m: 'list' object has no attribute 'fillna'"
     ]
    }
   ],
   "source": [
    "postcodes = apartments_df.postcode.tolist().fillna(\"\")\n",
    "\n",
    "for code in postcodes:\n",
    "    if code == \"W2\":\n",
    "        print(code)\n",
    "        \n",
    "for code in postcodes:\n",
    "    \n",
    "    print(code)\n",
    "    print(code[0:2] == \"W2\")\n",
    "    \n",
    "    if code[0:2] == \"W2\":\n",
    "        print(code)\n",
    "\n",
    "    \n",
    "# can group postcodes by region, and only show desirable ones!"
   ]
  },
  {
   "cell_type": "markdown",
   "metadata": {
    "heading_collapsed": true
   },
   "source": [
    "# API tutorial"
   ]
  },
  {
   "cell_type": "code",
   "execution_count": null,
   "metadata": {
    "hidden": true
   },
   "outputs": [],
   "source": [
    "import requests"
   ]
  },
  {
   "cell_type": "code",
   "execution_count": null,
   "metadata": {
    "hidden": true
   },
   "outputs": [],
   "source": [
    "response = requests.get(\"http://api.open-notify.org/this-api-doesnt-exist\")\n",
    "print(response.status_code)"
   ]
  },
  {
   "cell_type": "code",
   "execution_count": null,
   "metadata": {
    "hidden": true
   },
   "outputs": [],
   "source": [
    "response = requests.get(\"http://api.open-notify.org/astros.json\")\n",
    "print(response.status_code)\n",
    "print(response.json())"
   ]
  },
  {
   "cell_type": "code",
   "execution_count": null,
   "metadata": {
    "hidden": true
   },
   "outputs": [],
   "source": [
    "import json\n",
    "\n",
    "def jprint(obj):\n",
    "    # create a formatted string of the Python JSON object\n",
    "    text = json.dumps(obj, sort_keys=True, indent=4)\n",
    "    print(text)\n",
    "\n",
    "jprint(response.json())"
   ]
  },
  {
   "cell_type": "code",
   "execution_count": null,
   "metadata": {
    "hidden": true
   },
   "outputs": [],
   "source": [
    "parameters = {\n",
    "    \"lat\": 40.71,\n",
    "    \"lon\": -74\n",
    "}\n",
    "\n",
    "response = requests.get(\"http://api.open-notify.org/iss-pass.json\", params=parameters)\n",
    "jprint(response.json())\n",
    "\n",
    "pass_times = response.json()['response']\n",
    "jprint(pass_times)"
   ]
  },
  {
   "cell_type": "code",
   "execution_count": null,
   "metadata": {
    "hidden": true
   },
   "outputs": [],
   "source": [
    "risetimes = []\n",
    "\n",
    "for d in pass_times:\n",
    "    time = d['risetime']\n",
    "    risetimes.append(time)\n",
    "\n",
    "print(risetimes)"
   ]
  },
  {
   "cell_type": "code",
   "execution_count": null,
   "metadata": {
    "hidden": true
   },
   "outputs": [],
   "source": [
    "from datetime import datetime\n",
    "\n",
    "times = []\n",
    "\n",
    "for rt in risetimes:\n",
    "    time = datetime.fromtimestamp(rt)\n",
    "    times.append(time)\n",
    "    print(time)"
   ]
  },
  {
   "cell_type": "markdown",
   "metadata": {},
   "source": [
    "# Another API tutorial"
   ]
  },
  {
   "cell_type": "code",
   "execution_count": null,
   "metadata": {},
   "outputs": [],
   "source": [
    "access_url = \"https://api.traveltimeapp.com/v4/time-filter\"\n",
    "\n",
    "# This is the application ID, you should send with each API request.\n",
    "application_ID = \"431ba267\"\n",
    "\n",
    "application_key = \"711616354625b0fd97dd08aa8fb4ffdc\""
   ]
  },
  {
   "cell_type": "code",
   "execution_count": null,
   "metadata": {},
   "outputs": [],
   "source": [
    "headers = {\n",
    "    'user-agent': USER_AGENT\n",
    "}\n",
    "\n",
    "payload = {\n",
    "    'api_key': API_KEY,\n",
    "    'method': 'chart.gettopartists',\n",
    "    'format': 'json'\n",
    "}"
   ]
  },
  {
   "cell_type": "code",
   "execution_count": null,
   "metadata": {},
   "outputs": [],
   "source": [
    "payload = {\n",
    "    \"api_key\": application_key,\n",
    "    \n",
    "    \"locations\": [\n",
    "    {\n",
    "      \"id\": \"London center\",\n",
    "      \"coords\": {\n",
    "        \"lat\": 51.508930,\n",
    "        \"lng\": -0.131387\n",
    "      }\n",
    "    },\n",
    "    {\n",
    "      \"id\": \"Hyde Park\",\n",
    "      \"coords\": {\n",
    "        \"lat\": 51.508824,\n",
    "        \"lng\": -0.167093\n",
    "      }\n",
    "    },\n",
    "    {\n",
    "      \"id\": \"ZSL London Zoo\",\n",
    "      \"coords\": {\n",
    "        \"lat\": 51.536067,\n",
    "        \"lng\": -0.153596\n",
    "      }\n",
    "    }\n",
    "  ],\n",
    "  \"departure_searches\": [\n",
    "    {\n",
    "      \"id\": \"forward search example\",\n",
    "      \"departure_location_id\": \"London center\",\n",
    "      \"arrival_location_ids\": [\n",
    "        \"Hyde Park\",\n",
    "        \"ZSL London Zoo\"\n",
    "      ],\n",
    "      \"transportation\": {\n",
    "        \"type\": \"bus\"\n",
    "      },\n",
    "      \"departure_time\": \"2020-11-16T08:00:00Z\",\n",
    "      \"travel_time\": 1800,\n",
    "      \"properties\": [\n",
    "        \"travel_time\"\n",
    "      ],\n",
    "      \"range\": {\n",
    "        \"enabled\": True,\n",
    "        \"max_results\": 3,\n",
    "        \"width\": 600\n",
    "      }\n",
    "    }\n",
    "  ],\n",
    "  \"arrival_searches\": [\n",
    "    {\n",
    "      \"id\": \"backward search example\",\n",
    "      \"departure_location_ids\": [\n",
    "        \"Hyde Park\",\n",
    "        \"ZSL London Zoo\"\n",
    "      ],\n",
    "      \"arrival_location_id\": \"London center\",\n",
    "      \"transportation\": {\n",
    "        \"type\": \"public_transport\"\n",
    "      },\n",
    "      \"arrival_time\": \"2020-11-16T08:00:00Z\",\n",
    "      \"travel_time\": 1900,\n",
    "      \"properties\": [\n",
    "        \"travel_time\",\n",
    "        \"distance\",\n",
    "        \"distance_breakdown\",\n",
    "        \"fares\"\n",
    "      ]\n",
    "    }\n",
    "  ]\n",
    "}"
   ]
  },
  {
   "cell_type": "code",
   "execution_count": null,
   "metadata": {},
   "outputs": [],
   "source": [
    "response = requests.get(access_url, params = payload)\n",
    "print(response.status_code)"
   ]
  }
 ],
 "metadata": {
  "kernelspec": {
   "display_name": "Python 3",
   "language": "python",
   "name": "python3"
  },
  "language_info": {
   "codemirror_mode": {
    "name": "ipython",
    "version": 3
   },
   "file_extension": ".py",
   "mimetype": "text/x-python",
   "name": "python",
   "nbconvert_exporter": "python",
   "pygments_lexer": "ipython3",
   "version": "3.7.6"
  }
 },
 "nbformat": 4,
 "nbformat_minor": 4
}
