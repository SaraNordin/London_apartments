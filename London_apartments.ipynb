{
 "cells": [
  {
   "cell_type": "code",
   "execution_count": 3,
   "metadata": {},
   "outputs": [],
   "source": [
    "import numpy as np\n",
    "from rightmove_webscraper import RightmoveData\n",
    "from IPython.display import display"
   ]
  },
  {
   "cell_type": "markdown",
   "metadata": {},
   "source": [
    "Webscraper taken from https://github.com/toby-p/rightmove_webscraper.py"
   ]
  },
  {
   "cell_type": "code",
   "execution_count": 4,
   "metadata": {},
   "outputs": [],
   "source": [
    "url = \"https://www.rightmove.co.uk/property-to-rent/find.html?searchType=RENT&locationIdentifier=STATION%5E3431&insId=1&radius=5.0&minPrice=&maxPrice=&minBedrooms=&maxBedrooms=&displayPropertyType=flats&maxDaysSinceAdded=&sortByPriceDescending=&_includeLetAgreed=on&primaryDisplayPropertyType=&secondaryDisplayPropertyType=&oldDisplayPropertyType=&oldPrimaryDisplayPropertyType=&letType=&letFurnishType=&houseFlatShare=\"\n",
    "rm = RightmoveData(url)"
   ]
  },
  {
   "cell_type": "code",
   "execution_count": null,
   "metadata": {},
   "outputs": [],
   "source": [
    "# Refresh data\n",
    "rm.refresh_data()"
   ]
  },
  {
   "cell_type": "code",
   "execution_count": 5,
   "metadata": {},
   "outputs": [
    {
     "data": {
      "text/plain": [
       "2112.9742857142855"
      ]
     },
     "execution_count": 5,
     "metadata": {},
     "output_type": "execute_result"
    }
   ],
   "source": [
    "# average price for the search\n",
    "rm.average_price\n",
    "\n",
    "# How many pages is the search result?\n",
    "# rm.page_count\n",
    "\n",
    "# Is the search for rental or sale?\n",
    "# rm.rent_or_sale"
   ]
  },
  {
   "cell_type": "code",
   "execution_count": 7,
   "metadata": {},
   "outputs": [
    {
     "data": {
      "text/plain": [
       "1050"
      ]
     },
     "execution_count": 7,
     "metadata": {},
     "output_type": "execute_result"
    }
   ],
   "source": [
    "# number of search results\n",
    "rm.results_count"
   ]
  },
  {
   "cell_type": "code",
   "execution_count": 8,
   "metadata": {},
   "outputs": [
    {
     "data": {
      "text/html": [
       "<div>\n",
       "<style scoped>\n",
       "    .dataframe tbody tr th:only-of-type {\n",
       "        vertical-align: middle;\n",
       "    }\n",
       "\n",
       "    .dataframe tbody tr th {\n",
       "        vertical-align: top;\n",
       "    }\n",
       "\n",
       "    .dataframe thead th {\n",
       "        text-align: right;\n",
       "    }\n",
       "</style>\n",
       "<table border=\"1\" class=\"dataframe\">\n",
       "  <thead>\n",
       "    <tr style=\"text-align: right;\">\n",
       "      <th></th>\n",
       "      <th>number_bedrooms</th>\n",
       "      <th>count</th>\n",
       "      <th>mean</th>\n",
       "    </tr>\n",
       "  </thead>\n",
       "  <tbody>\n",
       "    <tr>\n",
       "      <th>0</th>\n",
       "      <td>0</td>\n",
       "      <td>76</td>\n",
       "      <td>1180.894737</td>\n",
       "    </tr>\n",
       "    <tr>\n",
       "      <th>1</th>\n",
       "      <td>1</td>\n",
       "      <td>387</td>\n",
       "      <td>1629.382429</td>\n",
       "    </tr>\n",
       "    <tr>\n",
       "      <th>2</th>\n",
       "      <td>2</td>\n",
       "      <td>408</td>\n",
       "      <td>2312.463235</td>\n",
       "    </tr>\n",
       "    <tr>\n",
       "      <th>3</th>\n",
       "      <td>3</td>\n",
       "      <td>138</td>\n",
       "      <td>3099.949275</td>\n",
       "    </tr>\n",
       "    <tr>\n",
       "      <th>4</th>\n",
       "      <td>4</td>\n",
       "      <td>27</td>\n",
       "      <td>3427.222222</td>\n",
       "    </tr>\n",
       "    <tr>\n",
       "      <th>5</th>\n",
       "      <td>5</td>\n",
       "      <td>7</td>\n",
       "      <td>4393.142857</td>\n",
       "    </tr>\n",
       "  </tbody>\n",
       "</table>\n",
       "</div>"
      ],
      "text/plain": [
       "   number_bedrooms  count         mean\n",
       "0                0     76  1180.894737\n",
       "1                1    387  1629.382429\n",
       "2                2    408  2312.463235\n",
       "3                3    138  3099.949275\n",
       "4                4     27  3427.222222\n",
       "5                5      7  4393.142857"
      ]
     },
     "metadata": {},
     "output_type": "display_data"
    },
    {
     "data": {
      "text/html": [
       "<div>\n",
       "<style scoped>\n",
       "    .dataframe tbody tr th:only-of-type {\n",
       "        vertical-align: middle;\n",
       "    }\n",
       "\n",
       "    .dataframe tbody tr th {\n",
       "        vertical-align: top;\n",
       "    }\n",
       "\n",
       "    .dataframe thead th {\n",
       "        text-align: right;\n",
       "    }\n",
       "</style>\n",
       "<table border=\"1\" class=\"dataframe\">\n",
       "  <thead>\n",
       "    <tr style=\"text-align: right;\">\n",
       "      <th></th>\n",
       "      <th>postcode</th>\n",
       "      <th>count</th>\n",
       "      <th>mean</th>\n",
       "    </tr>\n",
       "  </thead>\n",
       "  <tbody>\n",
       "    <tr>\n",
       "      <th>0</th>\n",
       "      <td>E14</td>\n",
       "      <td>84</td>\n",
       "      <td>2133.880952</td>\n",
       "    </tr>\n",
       "    <tr>\n",
       "      <th>1</th>\n",
       "      <td>N1</td>\n",
       "      <td>40</td>\n",
       "      <td>1884.500000</td>\n",
       "    </tr>\n",
       "    <tr>\n",
       "      <th>2</th>\n",
       "      <td>E1</td>\n",
       "      <td>35</td>\n",
       "      <td>1742.714286</td>\n",
       "    </tr>\n",
       "    <tr>\n",
       "      <th>3</th>\n",
       "      <td>W2</td>\n",
       "      <td>35</td>\n",
       "      <td>2398.085714</td>\n",
       "    </tr>\n",
       "    <tr>\n",
       "      <th>4</th>\n",
       "      <td>NW8</td>\n",
       "      <td>35</td>\n",
       "      <td>3107.628571</td>\n",
       "    </tr>\n",
       "  </tbody>\n",
       "</table>\n",
       "</div>"
      ],
      "text/plain": [
       "  postcode  count         mean\n",
       "0      E14     84  2133.880952\n",
       "1       N1     40  1884.500000\n",
       "2       E1     35  1742.714286\n",
       "3       W2     35  2398.085714\n",
       "4      NW8     35  3107.628571"
      ]
     },
     "metadata": {},
     "output_type": "display_data"
    }
   ],
   "source": [
    "# Summary of results\n",
    "display(rm.summary())\n",
    "\n",
    "# summary of results, by postcode\n",
    "display(rm.summary(by = \"postcode\").head())"
   ]
  },
  {
   "cell_type": "code",
   "execution_count": 9,
   "metadata": {},
   "outputs": [
    {
     "data": {
      "text/html": [
       "<div>\n",
       "<style scoped>\n",
       "    .dataframe tbody tr th:only-of-type {\n",
       "        vertical-align: middle;\n",
       "    }\n",
       "\n",
       "    .dataframe tbody tr th {\n",
       "        vertical-align: top;\n",
       "    }\n",
       "\n",
       "    .dataframe thead th {\n",
       "        text-align: right;\n",
       "    }\n",
       "</style>\n",
       "<table border=\"1\" class=\"dataframe\">\n",
       "  <thead>\n",
       "    <tr style=\"text-align: right;\">\n",
       "      <th></th>\n",
       "      <th>price</th>\n",
       "      <th>type</th>\n",
       "      <th>address</th>\n",
       "      <th>url</th>\n",
       "      <th>agent_url</th>\n",
       "      <th>postcode</th>\n",
       "      <th>number_bedrooms</th>\n",
       "      <th>search_date</th>\n",
       "    </tr>\n",
       "  </thead>\n",
       "  <tbody>\n",
       "    <tr>\n",
       "      <th>0</th>\n",
       "      <td>1928.0</td>\n",
       "      <td>2 bedroom apartment</td>\n",
       "      <td>Hermitage Waterside, Wapping</td>\n",
       "      <td>http://www.rightmove.co.uk/property-to-rent/pr...</td>\n",
       "      <td>http://www.rightmove.co.uk/estate-agents/agent...</td>\n",
       "      <td>NaN</td>\n",
       "      <td>2.0</td>\n",
       "      <td>2020-11-17 19:59:26.700672</td>\n",
       "    </tr>\n",
       "    <tr>\n",
       "      <th>1</th>\n",
       "      <td>2492.0</td>\n",
       "      <td>2 bedroom apartment</td>\n",
       "      <td>Colosseum Terrace, Regents Park, London, NW1</td>\n",
       "      <td>http://www.rightmove.co.uk/property-to-rent/pr...</td>\n",
       "      <td>http://www.rightmove.co.uk/estate-agents/agent...</td>\n",
       "      <td>NW1</td>\n",
       "      <td>2.0</td>\n",
       "      <td>2020-11-17 19:59:26.700672</td>\n",
       "    </tr>\n",
       "    <tr>\n",
       "      <th>2</th>\n",
       "      <td>1750.0</td>\n",
       "      <td>1 bedroom flat</td>\n",
       "      <td>Printers Inn Court, London, EC4A</td>\n",
       "      <td>http://www.rightmove.co.uk/property-to-rent/pr...</td>\n",
       "      <td>http://www.rightmove.co.uk/estate-agents/agent...</td>\n",
       "      <td>EC4A</td>\n",
       "      <td>1.0</td>\n",
       "      <td>2020-11-17 19:59:26.700672</td>\n",
       "    </tr>\n",
       "    <tr>\n",
       "      <th>3</th>\n",
       "      <td>1950.0</td>\n",
       "      <td>3 bedroom flat</td>\n",
       "      <td>Denmark Hill, SE5</td>\n",
       "      <td>http://www.rightmove.co.uk/property-to-rent/pr...</td>\n",
       "      <td>http://www.rightmove.co.uk/estate-agents/agent...</td>\n",
       "      <td>SE5</td>\n",
       "      <td>3.0</td>\n",
       "      <td>2020-11-17 19:59:26.700672</td>\n",
       "    </tr>\n",
       "    <tr>\n",
       "      <th>4</th>\n",
       "      <td>2100.0</td>\n",
       "      <td>1 bedroom flat</td>\n",
       "      <td>UNCLE, London SE11</td>\n",
       "      <td>http://www.rightmove.co.uk/property-to-rent/pr...</td>\n",
       "      <td>http://www.rightmove.co.uk/estate-agents/agent...</td>\n",
       "      <td>SE11</td>\n",
       "      <td>1.0</td>\n",
       "      <td>2020-11-17 19:59:26.700672</td>\n",
       "    </tr>\n",
       "  </tbody>\n",
       "</table>\n",
       "</div>"
      ],
      "text/plain": [
       "    price                 type                                       address  \\\n",
       "0  1928.0  2 bedroom apartment                  Hermitage Waterside, Wapping   \n",
       "1  2492.0  2 bedroom apartment  Colosseum Terrace, Regents Park, London, NW1   \n",
       "2  1750.0       1 bedroom flat              Printers Inn Court, London, EC4A   \n",
       "3  1950.0       3 bedroom flat                             Denmark Hill, SE5   \n",
       "4  2100.0       1 bedroom flat                            UNCLE, London SE11   \n",
       "\n",
       "                                                 url  \\\n",
       "0  http://www.rightmove.co.uk/property-to-rent/pr...   \n",
       "1  http://www.rightmove.co.uk/property-to-rent/pr...   \n",
       "2  http://www.rightmove.co.uk/property-to-rent/pr...   \n",
       "3  http://www.rightmove.co.uk/property-to-rent/pr...   \n",
       "4  http://www.rightmove.co.uk/property-to-rent/pr...   \n",
       "\n",
       "                                           agent_url postcode  \\\n",
       "0  http://www.rightmove.co.uk/estate-agents/agent...      NaN   \n",
       "1  http://www.rightmove.co.uk/estate-agents/agent...      NW1   \n",
       "2  http://www.rightmove.co.uk/estate-agents/agent...     EC4A   \n",
       "3  http://www.rightmove.co.uk/estate-agents/agent...      SE5   \n",
       "4  http://www.rightmove.co.uk/estate-agents/agent...     SE11   \n",
       "\n",
       "   number_bedrooms                search_date  \n",
       "0              2.0 2020-11-17 19:59:26.700672  \n",
       "1              2.0 2020-11-17 19:59:26.700672  \n",
       "2              1.0 2020-11-17 19:59:26.700672  \n",
       "3              3.0 2020-11-17 19:59:26.700672  \n",
       "4              1.0 2020-11-17 19:59:26.700672  "
      ]
     },
     "execution_count": 9,
     "metadata": {},
     "output_type": "execute_result"
    }
   ],
   "source": [
    "apartments_df = rm.get_results\n",
    "apartments_df.head()"
   ]
  },
  {
   "cell_type": "code",
   "execution_count": 10,
   "metadata": {},
   "outputs": [
    {
     "data": {
      "text/plain": [
       "2 bedroom flat         218\n",
       "1 bedroom flat         214\n",
       "2 bedroom apartment    168\n",
       "1 bedroom apartment    162\n",
       "3 bedroom flat          71\n",
       "Name: type, dtype: int64"
      ]
     },
     "execution_count": 10,
     "metadata": {},
     "output_type": "execute_result"
    }
   ],
   "source": [
    "apartments_df.type.value_counts().head()"
   ]
  },
  {
   "cell_type": "code",
   "execution_count": 11,
   "metadata": {},
   "outputs": [
    {
     "data": {
      "text/html": [
       "<div>\n",
       "<style scoped>\n",
       "    .dataframe tbody tr th:only-of-type {\n",
       "        vertical-align: middle;\n",
       "    }\n",
       "\n",
       "    .dataframe tbody tr th {\n",
       "        vertical-align: top;\n",
       "    }\n",
       "\n",
       "    .dataframe thead th {\n",
       "        text-align: right;\n",
       "    }\n",
       "</style>\n",
       "<table border=\"1\" class=\"dataframe\">\n",
       "  <thead>\n",
       "    <tr style=\"text-align: right;\">\n",
       "      <th></th>\n",
       "      <th>price</th>\n",
       "      <th>type</th>\n",
       "      <th>address</th>\n",
       "      <th>url</th>\n",
       "      <th>agent_url</th>\n",
       "      <th>postcode</th>\n",
       "      <th>number_bedrooms</th>\n",
       "      <th>search_date</th>\n",
       "    </tr>\n",
       "  </thead>\n",
       "  <tbody>\n",
       "    <tr>\n",
       "      <th>0</th>\n",
       "      <td>1928.0</td>\n",
       "      <td>2 bedroom apartment</td>\n",
       "      <td>Hermitage Waterside, Wapping</td>\n",
       "      <td>http://www.rightmove.co.uk/property-to-rent/pr...</td>\n",
       "      <td>http://www.rightmove.co.uk/estate-agents/agent...</td>\n",
       "      <td>NaN</td>\n",
       "      <td>2.0</td>\n",
       "      <td>2020-11-17 19:59:26.700672</td>\n",
       "    </tr>\n",
       "    <tr>\n",
       "      <th>2</th>\n",
       "      <td>1750.0</td>\n",
       "      <td>1 bedroom flat</td>\n",
       "      <td>Printers Inn Court, London, EC4A</td>\n",
       "      <td>http://www.rightmove.co.uk/property-to-rent/pr...</td>\n",
       "      <td>http://www.rightmove.co.uk/estate-agents/agent...</td>\n",
       "      <td>EC4A</td>\n",
       "      <td>1.0</td>\n",
       "      <td>2020-11-17 19:59:26.700672</td>\n",
       "    </tr>\n",
       "    <tr>\n",
       "      <th>3</th>\n",
       "      <td>1950.0</td>\n",
       "      <td>3 bedroom flat</td>\n",
       "      <td>Denmark Hill, SE5</td>\n",
       "      <td>http://www.rightmove.co.uk/property-to-rent/pr...</td>\n",
       "      <td>http://www.rightmove.co.uk/estate-agents/agent...</td>\n",
       "      <td>SE5</td>\n",
       "      <td>3.0</td>\n",
       "      <td>2020-11-17 19:59:26.700672</td>\n",
       "    </tr>\n",
       "    <tr>\n",
       "      <th>10</th>\n",
       "      <td>1885.0</td>\n",
       "      <td>1 bedroom apartment</td>\n",
       "      <td>Queen's Gate, South Kensington, London, SW7</td>\n",
       "      <td>http://www.rightmove.co.uk/property-to-rent/pr...</td>\n",
       "      <td>http://www.rightmove.co.uk/estate-agents/agent...</td>\n",
       "      <td>SW7</td>\n",
       "      <td>1.0</td>\n",
       "      <td>2020-11-17 19:59:26.700672</td>\n",
       "    </tr>\n",
       "    <tr>\n",
       "      <th>12</th>\n",
       "      <td>1500.0</td>\n",
       "      <td>1 bedroom flat</td>\n",
       "      <td>Printers Inn Court, London, EC4A</td>\n",
       "      <td>http://www.rightmove.co.uk/property-to-rent/pr...</td>\n",
       "      <td>http://www.rightmove.co.uk/estate-agents/agent...</td>\n",
       "      <td>EC4A</td>\n",
       "      <td>1.0</td>\n",
       "      <td>2020-11-17 19:59:26.700672</td>\n",
       "    </tr>\n",
       "  </tbody>\n",
       "</table>\n",
       "</div>"
      ],
      "text/plain": [
       "     price                 type                                      address  \\\n",
       "0   1928.0  2 bedroom apartment                 Hermitage Waterside, Wapping   \n",
       "2   1750.0       1 bedroom flat             Printers Inn Court, London, EC4A   \n",
       "3   1950.0       3 bedroom flat                            Denmark Hill, SE5   \n",
       "10  1885.0  1 bedroom apartment  Queen's Gate, South Kensington, London, SW7   \n",
       "12  1500.0       1 bedroom flat             Printers Inn Court, London, EC4A   \n",
       "\n",
       "                                                  url  \\\n",
       "0   http://www.rightmove.co.uk/property-to-rent/pr...   \n",
       "2   http://www.rightmove.co.uk/property-to-rent/pr...   \n",
       "3   http://www.rightmove.co.uk/property-to-rent/pr...   \n",
       "10  http://www.rightmove.co.uk/property-to-rent/pr...   \n",
       "12  http://www.rightmove.co.uk/property-to-rent/pr...   \n",
       "\n",
       "                                            agent_url postcode  \\\n",
       "0   http://www.rightmove.co.uk/estate-agents/agent...      NaN   \n",
       "2   http://www.rightmove.co.uk/estate-agents/agent...     EC4A   \n",
       "3   http://www.rightmove.co.uk/estate-agents/agent...      SE5   \n",
       "10  http://www.rightmove.co.uk/estate-agents/agent...      SW7   \n",
       "12  http://www.rightmove.co.uk/estate-agents/agent...     EC4A   \n",
       "\n",
       "    number_bedrooms                search_date  \n",
       "0               2.0 2020-11-17 19:59:26.700672  \n",
       "2               1.0 2020-11-17 19:59:26.700672  \n",
       "3               3.0 2020-11-17 19:59:26.700672  \n",
       "10              1.0 2020-11-17 19:59:26.700672  \n",
       "12              1.0 2020-11-17 19:59:26.700672  "
      ]
     },
     "metadata": {},
     "output_type": "display_data"
    },
    {
     "data": {
      "text/plain": [
       "(639, 8)"
      ]
     },
     "execution_count": 11,
     "metadata": {},
     "output_type": "execute_result"
    }
   ],
   "source": [
    "max_rent = 2000\n",
    "\n",
    "apartments_df = apartments_df[apartments_df.price < max_rent]\n",
    "display(apartments_df.head())\n",
    "\n",
    "apartments_df.shape"
   ]
  },
  {
   "cell_type": "code",
   "execution_count": 12,
   "metadata": {
    "scrolled": true
   },
   "outputs": [
    {
     "data": {
      "text/plain": [
       "1.0    316\n",
       "2.0    196\n",
       "0.0     75\n",
       "3.0     41\n",
       "4.0      4\n",
       "5.0      1\n",
       "Name: number_bedrooms, dtype: int64"
      ]
     },
     "metadata": {},
     "output_type": "display_data"
    },
    {
     "data": {
      "text/plain": [
       "Studio flat         62\n",
       "Studio apartment    13\n",
       "Name: type, dtype: int64"
      ]
     },
     "metadata": {},
     "output_type": "display_data"
    },
    {
     "data": {
      "text/html": [
       "<div>\n",
       "<style scoped>\n",
       "    .dataframe tbody tr th:only-of-type {\n",
       "        vertical-align: middle;\n",
       "    }\n",
       "\n",
       "    .dataframe tbody tr th {\n",
       "        vertical-align: top;\n",
       "    }\n",
       "\n",
       "    .dataframe thead th {\n",
       "        text-align: right;\n",
       "    }\n",
       "</style>\n",
       "<table border=\"1\" class=\"dataframe\">\n",
       "  <thead>\n",
       "    <tr style=\"text-align: right;\">\n",
       "      <th></th>\n",
       "      <th>price</th>\n",
       "      <th>type</th>\n",
       "      <th>address</th>\n",
       "      <th>url</th>\n",
       "      <th>agent_url</th>\n",
       "      <th>postcode</th>\n",
       "      <th>number_bedrooms</th>\n",
       "      <th>search_date</th>\n",
       "    </tr>\n",
       "  </thead>\n",
       "  <tbody>\n",
       "    <tr>\n",
       "      <th>0</th>\n",
       "      <td>1928.0</td>\n",
       "      <td>2 bedroom apartment</td>\n",
       "      <td>Hermitage Waterside, Wapping</td>\n",
       "      <td>http://www.rightmove.co.uk/property-to-rent/pr...</td>\n",
       "      <td>http://www.rightmove.co.uk/estate-agents/agent...</td>\n",
       "      <td>NaN</td>\n",
       "      <td>2.0</td>\n",
       "      <td>2020-11-17 19:59:26.700672</td>\n",
       "    </tr>\n",
       "    <tr>\n",
       "      <th>2</th>\n",
       "      <td>1750.0</td>\n",
       "      <td>1 bedroom flat</td>\n",
       "      <td>Printers Inn Court, London, EC4A</td>\n",
       "      <td>http://www.rightmove.co.uk/property-to-rent/pr...</td>\n",
       "      <td>http://www.rightmove.co.uk/estate-agents/agent...</td>\n",
       "      <td>EC4A</td>\n",
       "      <td>1.0</td>\n",
       "      <td>2020-11-17 19:59:26.700672</td>\n",
       "    </tr>\n",
       "    <tr>\n",
       "      <th>3</th>\n",
       "      <td>1950.0</td>\n",
       "      <td>3 bedroom flat</td>\n",
       "      <td>Denmark Hill, SE5</td>\n",
       "      <td>http://www.rightmove.co.uk/property-to-rent/pr...</td>\n",
       "      <td>http://www.rightmove.co.uk/estate-agents/agent...</td>\n",
       "      <td>SE5</td>\n",
       "      <td>3.0</td>\n",
       "      <td>2020-11-17 19:59:26.700672</td>\n",
       "    </tr>\n",
       "    <tr>\n",
       "      <th>10</th>\n",
       "      <td>1885.0</td>\n",
       "      <td>1 bedroom apartment</td>\n",
       "      <td>Queen's Gate, South Kensington, London, SW7</td>\n",
       "      <td>http://www.rightmove.co.uk/property-to-rent/pr...</td>\n",
       "      <td>http://www.rightmove.co.uk/estate-agents/agent...</td>\n",
       "      <td>SW7</td>\n",
       "      <td>1.0</td>\n",
       "      <td>2020-11-17 19:59:26.700672</td>\n",
       "    </tr>\n",
       "    <tr>\n",
       "      <th>12</th>\n",
       "      <td>1500.0</td>\n",
       "      <td>1 bedroom flat</td>\n",
       "      <td>Printers Inn Court, London, EC4A</td>\n",
       "      <td>http://www.rightmove.co.uk/property-to-rent/pr...</td>\n",
       "      <td>http://www.rightmove.co.uk/estate-agents/agent...</td>\n",
       "      <td>EC4A</td>\n",
       "      <td>1.0</td>\n",
       "      <td>2020-11-17 19:59:26.700672</td>\n",
       "    </tr>\n",
       "  </tbody>\n",
       "</table>\n",
       "</div>"
      ],
      "text/plain": [
       "     price                 type                                      address  \\\n",
       "0   1928.0  2 bedroom apartment                 Hermitage Waterside, Wapping   \n",
       "2   1750.0       1 bedroom flat             Printers Inn Court, London, EC4A   \n",
       "3   1950.0       3 bedroom flat                            Denmark Hill, SE5   \n",
       "10  1885.0  1 bedroom apartment  Queen's Gate, South Kensington, London, SW7   \n",
       "12  1500.0       1 bedroom flat             Printers Inn Court, London, EC4A   \n",
       "\n",
       "                                                  url  \\\n",
       "0   http://www.rightmove.co.uk/property-to-rent/pr...   \n",
       "2   http://www.rightmove.co.uk/property-to-rent/pr...   \n",
       "3   http://www.rightmove.co.uk/property-to-rent/pr...   \n",
       "10  http://www.rightmove.co.uk/property-to-rent/pr...   \n",
       "12  http://www.rightmove.co.uk/property-to-rent/pr...   \n",
       "\n",
       "                                            agent_url postcode  \\\n",
       "0   http://www.rightmove.co.uk/estate-agents/agent...      NaN   \n",
       "2   http://www.rightmove.co.uk/estate-agents/agent...     EC4A   \n",
       "3   http://www.rightmove.co.uk/estate-agents/agent...      SE5   \n",
       "10  http://www.rightmove.co.uk/estate-agents/agent...      SW7   \n",
       "12  http://www.rightmove.co.uk/estate-agents/agent...     EC4A   \n",
       "\n",
       "    number_bedrooms                search_date  \n",
       "0               2.0 2020-11-17 19:59:26.700672  \n",
       "2               1.0 2020-11-17 19:59:26.700672  \n",
       "3               3.0 2020-11-17 19:59:26.700672  \n",
       "10              1.0 2020-11-17 19:59:26.700672  \n",
       "12              1.0 2020-11-17 19:59:26.700672  "
      ]
     },
     "metadata": {},
     "output_type": "display_data"
    }
   ],
   "source": [
    "display(apartments_df.number_bedrooms.value_counts())\n",
    "\n",
    "# There are no missing number of bedrooms, those are just studio flats! Remove them. \n",
    "display(apartments_df[apartments_df.number_bedrooms == 0].type.value_counts())\n",
    "\n",
    "apartments_df = apartments_df[apartments_df.number_bedrooms != 0]\n",
    "display(apartments_df.head())"
   ]
  },
  {
   "cell_type": "code",
   "execution_count": 20,
   "metadata": {},
   "outputs": [
    {
     "name": "stdout",
     "output_type": "stream",
     "text": [
      "110\n"
     ]
    },
    {
     "data": {
      "text/plain": [
       "'http://www.rightmove.co.uk/property-to-rent/property-99665483.html'"
      ]
     },
     "execution_count": 20,
     "metadata": {},
     "output_type": "execute_result"
    }
   ],
   "source": [
    "# Worst case - filter based on postcode? \n",
    "\n",
    "# This is how many listings are lost because of this!\n",
    "print(apartments_df.postcode.isna().sum())\n",
    "\n",
    "#(is this a problem? Do we care about listings that don't even include a postcode?)\n",
    "\n",
    "apartments_df.url[0]"
   ]
  },
  {
   "cell_type": "code",
   "execution_count": 23,
   "metadata": {},
   "outputs": [
    {
     "data": {
      "text/plain": [
       "http://www.rightmove.co.uk/estate-agents/agent/OpenRent/London-96668.html                                    17\n",
       "http://www.rightmove.co.uk/estate-agents/agent/Chris-Anthony-Estates/London-122383.html                      11\n",
       "http://www.rightmove.co.uk/estate-agents/agent/Oppida/Surrey-Quays---Lettings-64976.html                      9\n",
       "http://www.rightmove.co.uk/estate-agents/agent/M-and-M-Property/London-4370.html                              8\n",
       "http://www.rightmove.co.uk/estate-agents/agent/SN-Estates-London/London-209642.html                           8\n",
       "                                                                                                             ..\n",
       "http://www.rightmove.co.uk/estate-agents/agent/Winkworth/St-Johns-Wood-90830.html                             1\n",
       "http://www.rightmove.co.uk/estate-agents/agent/Right-Now-Residential/London-49959.html                        1\n",
       "http://www.rightmove.co.uk/estate-agents/agent/Life-Residential/Canary-Wharf-Office---Lettings-52518.html     1\n",
       "http://www.rightmove.co.uk/estate-agents/agent/Jackson-Stops/Holland-Park-77692.html                          1\n",
       "http://www.rightmove.co.uk/estate-agents/agent/Peter-Martin/NW11-202550.html                                  1\n",
       "Name: agent_url, Length: 334, dtype: int64"
      ]
     },
     "execution_count": 23,
     "metadata": {},
     "output_type": "execute_result"
    }
   ],
   "source": [
    "# List different agents\n",
    "agents_count = apartments_df.agent_url.value_counts()\n",
    "agents_count"
   ]
  },
  {
   "cell_type": "code",
   "execution_count": 30,
   "metadata": {},
   "outputs": [
    {
     "data": {
      "text/plain": [
       "http://www.rightmove.co.uk/estate-agents/agent/CityZEN/London-29861.html                              4\n",
       "http://www.rightmove.co.uk/estate-agents/agent/Parkheath/Belsize-Park-72719.html                      3\n",
       "http://www.rightmove.co.uk/estate-agents/agent/Dexters/Clapham-High-Street-84875.html                 3\n",
       "http://www.rightmove.co.uk/estate-agents/agent/City-Docklands/London-25214.html                       3\n",
       "http://www.rightmove.co.uk/estate-agents/agent/Folio-London/Kings-Cross-97670.html                    3\n",
       "                                                                                                     ..\n",
       "http://www.rightmove.co.uk/estate-agents/agent/Brian-Thomas-Estate-Agents/Green-Lanes-6123.html       1\n",
       "http://www.rightmove.co.uk/estate-agents/agent/Westways/London-44562.html                             1\n",
       "http://www.rightmove.co.uk/estate-agents/agent/Beresford-Residential/Brixton---Lettings-48330.html    1\n",
       "http://www.rightmove.co.uk/estate-agents/agent/Bective/Ladbroke-Grove---Sales-49824.html              1\n",
       "http://www.rightmove.co.uk/estate-agents/agent/Net-Lettings/London-43665.html                         1\n",
       "Name: agent_url, Length: 83, dtype: int64"
      ]
     },
     "execution_count": 30,
     "metadata": {},
     "output_type": "execute_result"
    }
   ],
   "source": [
    "agents_na = apartments_df[apartments_df.postcode.isna()].agent_url.value_counts()\n",
    "agents_na\n",
    "\n",
    "# check if any agents are more likely to not give a postcode?"
   ]
  },
  {
   "cell_type": "code",
   "execution_count": 63,
   "metadata": {},
   "outputs": [
    {
     "name": "stdout",
     "output_type": "stream",
     "text": [
      "W2\n",
      "W2\n",
      "W2\n",
      "W2\n",
      "W2\n",
      "W2\n",
      "W2\n",
      "W2\n",
      "W2\n",
      "W2\n"
     ]
    },
    {
     "ename": "TypeError",
     "evalue": "'float' object is not subscriptable",
     "output_type": "error",
     "traceback": [
      "\u001b[1;31m---------------------------------------------------------------------------\u001b[0m",
      "\u001b[1;31mTypeError\u001b[0m                                 Traceback (most recent call last)",
      "\u001b[1;32m<ipython-input-63-10376f51fae5>\u001b[0m in \u001b[0;36m<module>\u001b[1;34m\u001b[0m\n\u001b[0;32m      6\u001b[0m \u001b[1;33m\u001b[0m\u001b[0m\n\u001b[0;32m      7\u001b[0m \u001b[1;32mfor\u001b[0m \u001b[0mi\u001b[0m \u001b[1;32min\u001b[0m \u001b[0mrange\u001b[0m\u001b[1;33m(\u001b[0m\u001b[0mlen\u001b[0m\u001b[1;33m(\u001b[0m\u001b[0mpostcodes\u001b[0m\u001b[1;33m)\u001b[0m\u001b[1;33m)\u001b[0m\u001b[1;33m:\u001b[0m\u001b[1;33m\u001b[0m\u001b[1;33m\u001b[0m\u001b[0m\n\u001b[1;32m----> 8\u001b[1;33m     \u001b[0mpostcodes\u001b[0m\u001b[1;33m[\u001b[0m\u001b[0mi\u001b[0m\u001b[1;33m+\u001b[0m\u001b[1;36m1\u001b[0m\u001b[1;33m]\u001b[0m\u001b[1;33m[\u001b[0m\u001b[1;36m0\u001b[0m\u001b[1;33m:\u001b[0m\u001b[1;36m1\u001b[0m\u001b[1;33m]\u001b[0m \u001b[1;33m==\u001b[0m \u001b[1;34m\"S\"\u001b[0m\u001b[1;33m\u001b[0m\u001b[1;33m\u001b[0m\u001b[0m\n\u001b[0m\u001b[0;32m      9\u001b[0m \u001b[1;33m\u001b[0m\u001b[0m\n\u001b[0;32m     10\u001b[0m \u001b[1;31m# can group postcodes by region, and only show desirable ones!\u001b[0m\u001b[1;33m\u001b[0m\u001b[1;33m\u001b[0m\u001b[1;33m\u001b[0m\u001b[0m\n",
      "\u001b[1;31mTypeError\u001b[0m: 'float' object is not subscriptable"
     ]
    }
   ],
   "source": [
    "postcodes = apartments_df.postcode.tolist()\n",
    "\n",
    "for code in postcodes:\n",
    "    if code == \"W2\":\n",
    "        print(code)\n",
    "        \n",
    "for i in range(len(postcodes)):      \n",
    "    postcodes[i+1][0:1] == \"S\"\n",
    "\n",
    "# can group postcodes by region, and only show desirable ones!"
   ]
  },
  {
   "cell_type": "markdown",
   "metadata": {
    "heading_collapsed": true
   },
   "source": [
    "# API tutorial"
   ]
  },
  {
   "cell_type": "code",
   "execution_count": 12,
   "metadata": {
    "hidden": true
   },
   "outputs": [],
   "source": [
    "import requests"
   ]
  },
  {
   "cell_type": "code",
   "execution_count": 14,
   "metadata": {
    "hidden": true
   },
   "outputs": [
    {
     "name": "stdout",
     "output_type": "stream",
     "text": [
      "404\n"
     ]
    }
   ],
   "source": [
    "response = requests.get(\"http://api.open-notify.org/this-api-doesnt-exist\")\n",
    "print(response.status_code)"
   ]
  },
  {
   "cell_type": "code",
   "execution_count": 16,
   "metadata": {
    "hidden": true
   },
   "outputs": [
    {
     "name": "stdout",
     "output_type": "stream",
     "text": [
      "200\n",
      "{'message': 'success', 'number': 7, 'people': [{'craft': 'ISS', 'name': 'Sergey Ryzhikov'}, {'craft': 'ISS', 'name': 'Kate Rubins'}, {'craft': 'ISS', 'name': 'Sergey Kud-Sverchkov'}, {'craft': 'ISS', 'name': 'Mike Hopkins'}, {'craft': 'ISS', 'name': 'Victor Glover'}, {'craft': 'ISS', 'name': 'Shannon Walker'}, {'craft': 'ISS', 'name': 'Soichi Noguchi'}]}\n"
     ]
    }
   ],
   "source": [
    "response = requests.get(\"http://api.open-notify.org/astros.json\")\n",
    "print(response.status_code)\n",
    "print(response.json())"
   ]
  },
  {
   "cell_type": "code",
   "execution_count": 17,
   "metadata": {
    "collapsed": true,
    "hidden": true
   },
   "outputs": [
    {
     "name": "stdout",
     "output_type": "stream",
     "text": [
      "{\n",
      "    \"message\": \"success\",\n",
      "    \"number\": 7,\n",
      "    \"people\": [\n",
      "        {\n",
      "            \"craft\": \"ISS\",\n",
      "            \"name\": \"Sergey Ryzhikov\"\n",
      "        },\n",
      "        {\n",
      "            \"craft\": \"ISS\",\n",
      "            \"name\": \"Kate Rubins\"\n",
      "        },\n",
      "        {\n",
      "            \"craft\": \"ISS\",\n",
      "            \"name\": \"Sergey Kud-Sverchkov\"\n",
      "        },\n",
      "        {\n",
      "            \"craft\": \"ISS\",\n",
      "            \"name\": \"Mike Hopkins\"\n",
      "        },\n",
      "        {\n",
      "            \"craft\": \"ISS\",\n",
      "            \"name\": \"Victor Glover\"\n",
      "        },\n",
      "        {\n",
      "            \"craft\": \"ISS\",\n",
      "            \"name\": \"Shannon Walker\"\n",
      "        },\n",
      "        {\n",
      "            \"craft\": \"ISS\",\n",
      "            \"name\": \"Soichi Noguchi\"\n",
      "        }\n",
      "    ]\n",
      "}\n"
     ]
    }
   ],
   "source": [
    "import json\n",
    "\n",
    "def jprint(obj):\n",
    "    # create a formatted string of the Python JSON object\n",
    "    text = json.dumps(obj, sort_keys=True, indent=4)\n",
    "    print(text)\n",
    "\n",
    "jprint(response.json())"
   ]
  },
  {
   "cell_type": "code",
   "execution_count": 20,
   "metadata": {
    "collapsed": true,
    "hidden": true
   },
   "outputs": [
    {
     "name": "stdout",
     "output_type": "stream",
     "text": [
      "{\n",
      "    \"message\": \"success\",\n",
      "    \"request\": {\n",
      "        \"altitude\": 100,\n",
      "        \"datetime\": 1605552523,\n",
      "        \"latitude\": 40.71,\n",
      "        \"longitude\": -74.0,\n",
      "        \"passes\": 5\n",
      "    },\n",
      "    \"response\": [\n",
      "        {\n",
      "            \"duration\": 530,\n",
      "            \"risetime\": 1605568411\n",
      "        },\n",
      "        {\n",
      "            \"duration\": 654,\n",
      "            \"risetime\": 1605574130\n",
      "        },\n",
      "        {\n",
      "            \"duration\": 599,\n",
      "            \"risetime\": 1605579991\n",
      "        },\n",
      "        {\n",
      "            \"duration\": 561,\n",
      "            \"risetime\": 1605585879\n",
      "        },\n",
      "        {\n",
      "            \"duration\": 621,\n",
      "            \"risetime\": 1605591711\n",
      "        }\n",
      "    ]\n",
      "}\n",
      "[\n",
      "    {\n",
      "        \"duration\": 530,\n",
      "        \"risetime\": 1605568411\n",
      "    },\n",
      "    {\n",
      "        \"duration\": 654,\n",
      "        \"risetime\": 1605574130\n",
      "    },\n",
      "    {\n",
      "        \"duration\": 599,\n",
      "        \"risetime\": 1605579991\n",
      "    },\n",
      "    {\n",
      "        \"duration\": 561,\n",
      "        \"risetime\": 1605585879\n",
      "    },\n",
      "    {\n",
      "        \"duration\": 621,\n",
      "        \"risetime\": 1605591711\n",
      "    }\n",
      "]\n"
     ]
    }
   ],
   "source": [
    "parameters = {\n",
    "    \"lat\": 40.71,\n",
    "    \"lon\": -74\n",
    "}\n",
    "\n",
    "response = requests.get(\"http://api.open-notify.org/iss-pass.json\", params=parameters)\n",
    "jprint(response.json())\n",
    "\n",
    "pass_times = response.json()['response']\n",
    "jprint(pass_times)"
   ]
  },
  {
   "cell_type": "code",
   "execution_count": 22,
   "metadata": {
    "hidden": true
   },
   "outputs": [
    {
     "name": "stdout",
     "output_type": "stream",
     "text": [
      "[1605568411, 1605574130, 1605579991, 1605585879, 1605591711]\n"
     ]
    }
   ],
   "source": [
    "risetimes = []\n",
    "\n",
    "for d in pass_times:\n",
    "    time = d['risetime']\n",
    "    risetimes.append(time)\n",
    "\n",
    "print(risetimes)"
   ]
  },
  {
   "cell_type": "code",
   "execution_count": 23,
   "metadata": {
    "hidden": true
   },
   "outputs": [
    {
     "name": "stdout",
     "output_type": "stream",
     "text": [
      "2020-11-17 00:13:31\n",
      "2020-11-17 01:48:50\n",
      "2020-11-17 03:26:31\n",
      "2020-11-17 05:04:39\n",
      "2020-11-17 06:41:51\n"
     ]
    }
   ],
   "source": [
    "from datetime import datetime\n",
    "\n",
    "times = []\n",
    "\n",
    "for rt in risetimes:\n",
    "    time = datetime.fromtimestamp(rt)\n",
    "    times.append(time)\n",
    "    print(time)"
   ]
  },
  {
   "cell_type": "markdown",
   "metadata": {},
   "source": [
    "# Another API tutorial"
   ]
  },
  {
   "cell_type": "code",
   "execution_count": 25,
   "metadata": {},
   "outputs": [],
   "source": [
    "access_url = \"https://api.traveltimeapp.com/v4/time-filter\"\n",
    "\n",
    "# This is the application ID, you should send with each API request.\n",
    "application_ID = \"431ba267\"\n",
    "\n",
    "application_key = \"711616354625b0fd97dd08aa8fb4ffdc\""
   ]
  },
  {
   "cell_type": "code",
   "execution_count": null,
   "metadata": {},
   "outputs": [],
   "source": [
    "headers = {\n",
    "    'user-agent': USER_AGENT\n",
    "}\n",
    "\n",
    "payload = {\n",
    "    'api_key': API_KEY,\n",
    "    'method': 'chart.gettopartists',\n",
    "    'format': 'json'\n",
    "}"
   ]
  },
  {
   "cell_type": "code",
   "execution_count": 30,
   "metadata": {},
   "outputs": [],
   "source": [
    "payload = {\n",
    "    \"api_key\": application_key,\n",
    "    \n",
    "    \"locations\": [\n",
    "    {\n",
    "      \"id\": \"London center\",\n",
    "      \"coords\": {\n",
    "        \"lat\": 51.508930,\n",
    "        \"lng\": -0.131387\n",
    "      }\n",
    "    },\n",
    "    {\n",
    "      \"id\": \"Hyde Park\",\n",
    "      \"coords\": {\n",
    "        \"lat\": 51.508824,\n",
    "        \"lng\": -0.167093\n",
    "      }\n",
    "    },\n",
    "    {\n",
    "      \"id\": \"ZSL London Zoo\",\n",
    "      \"coords\": {\n",
    "        \"lat\": 51.536067,\n",
    "        \"lng\": -0.153596\n",
    "      }\n",
    "    }\n",
    "  ],\n",
    "  \"departure_searches\": [\n",
    "    {\n",
    "      \"id\": \"forward search example\",\n",
    "      \"departure_location_id\": \"London center\",\n",
    "      \"arrival_location_ids\": [\n",
    "        \"Hyde Park\",\n",
    "        \"ZSL London Zoo\"\n",
    "      ],\n",
    "      \"transportation\": {\n",
    "        \"type\": \"bus\"\n",
    "      },\n",
    "      \"departure_time\": \"2020-11-16T08:00:00Z\",\n",
    "      \"travel_time\": 1800,\n",
    "      \"properties\": [\n",
    "        \"travel_time\"\n",
    "      ],\n",
    "      \"range\": {\n",
    "        \"enabled\": True,\n",
    "        \"max_results\": 3,\n",
    "        \"width\": 600\n",
    "      }\n",
    "    }\n",
    "  ],\n",
    "  \"arrival_searches\": [\n",
    "    {\n",
    "      \"id\": \"backward search example\",\n",
    "      \"departure_location_ids\": [\n",
    "        \"Hyde Park\",\n",
    "        \"ZSL London Zoo\"\n",
    "      ],\n",
    "      \"arrival_location_id\": \"London center\",\n",
    "      \"transportation\": {\n",
    "        \"type\": \"public_transport\"\n",
    "      },\n",
    "      \"arrival_time\": \"2020-11-16T08:00:00Z\",\n",
    "      \"travel_time\": 1900,\n",
    "      \"properties\": [\n",
    "        \"travel_time\",\n",
    "        \"distance\",\n",
    "        \"distance_breakdown\",\n",
    "        \"fares\"\n",
    "      ]\n",
    "    }\n",
    "  ]\n",
    "}"
   ]
  },
  {
   "cell_type": "code",
   "execution_count": 33,
   "metadata": {},
   "outputs": [
    {
     "name": "stdout",
     "output_type": "stream",
     "text": [
      "404\n"
     ]
    }
   ],
   "source": [
    "response = requests.get(access_url, params = payload)\n",
    "print(response.status_code)"
   ]
  }
 ],
 "metadata": {
  "kernelspec": {
   "display_name": "Python 3",
   "language": "python",
   "name": "python3"
  },
  "language_info": {
   "codemirror_mode": {
    "name": "ipython",
    "version": 3
   },
   "file_extension": ".py",
   "mimetype": "text/x-python",
   "name": "python",
   "nbconvert_exporter": "python",
   "pygments_lexer": "ipython3",
   "version": "3.7.6"
  }
 },
 "nbformat": 4,
 "nbformat_minor": 4
}
