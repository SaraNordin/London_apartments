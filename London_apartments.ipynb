{
 "cells": [
  {
   "cell_type": "code",
   "execution_count": 1,
   "metadata": {},
   "outputs": [],
   "source": [
    "import numpy as np\n",
    "from rightmove_webscraper import RightmoveData\n",
    "from IPython.display import display"
   ]
  },
  {
   "cell_type": "markdown",
   "metadata": {},
   "source": [
    "Webscraper taken from https://github.com/toby-p/rightmove_webscraper.py"
   ]
  },
  {
   "cell_type": "code",
   "execution_count": 2,
   "metadata": {},
   "outputs": [],
   "source": [
    "url = \"https://www.rightmove.co.uk/property-to-rent/find.html?searchType=RENT&locationIdentifier=STATION%5E3431&insId=1&radius=5.0&minPrice=&maxPrice=&minBedrooms=&maxBedrooms=&displayPropertyType=flats&maxDaysSinceAdded=&sortByPriceDescending=&_includeLetAgreed=on&primaryDisplayPropertyType=&secondaryDisplayPropertyType=&oldDisplayPropertyType=&oldPrimaryDisplayPropertyType=&letType=&letFurnishType=&houseFlatShare=\"\n",
    "rm = RightmoveData(url)"
   ]
  },
  {
   "cell_type": "code",
   "execution_count": 3,
   "metadata": {},
   "outputs": [],
   "source": [
    "# Refresh data\n",
    "rm.refresh_data()"
   ]
  },
  {
   "cell_type": "code",
   "execution_count": 4,
   "metadata": {},
   "outputs": [
    {
     "data": {
      "text/plain": [
       "2124.984761904762"
      ]
     },
     "execution_count": 4,
     "metadata": {},
     "output_type": "execute_result"
    }
   ],
   "source": [
    "# average price for the search\n",
    "rm.average_price\n",
    "\n",
    "# How many pages is the search result?\n",
    "# rm.page_count\n",
    "\n",
    "# Is the search for rental or sale?\n",
    "# rm.rent_or_sale"
   ]
  },
  {
   "cell_type": "code",
   "execution_count": 5,
   "metadata": {},
   "outputs": [
    {
     "data": {
      "text/plain": [
       "1050"
      ]
     },
     "execution_count": 5,
     "metadata": {},
     "output_type": "execute_result"
    }
   ],
   "source": [
    "# number of search results\n",
    "rm.results_count"
   ]
  },
  {
   "cell_type": "code",
   "execution_count": 6,
   "metadata": {},
   "outputs": [
    {
     "data": {
      "text/html": [
       "<div>\n",
       "<style scoped>\n",
       "    .dataframe tbody tr th:only-of-type {\n",
       "        vertical-align: middle;\n",
       "    }\n",
       "\n",
       "    .dataframe tbody tr th {\n",
       "        vertical-align: top;\n",
       "    }\n",
       "\n",
       "    .dataframe thead th {\n",
       "        text-align: right;\n",
       "    }\n",
       "</style>\n",
       "<table border=\"1\" class=\"dataframe\">\n",
       "  <thead>\n",
       "    <tr style=\"text-align: right;\">\n",
       "      <th></th>\n",
       "      <th>number_bedrooms</th>\n",
       "      <th>count</th>\n",
       "      <th>mean</th>\n",
       "    </tr>\n",
       "  </thead>\n",
       "  <tbody>\n",
       "    <tr>\n",
       "      <th>0</th>\n",
       "      <td>0</td>\n",
       "      <td>110</td>\n",
       "      <td>1234.590909</td>\n",
       "    </tr>\n",
       "    <tr>\n",
       "      <th>1</th>\n",
       "      <td>1</td>\n",
       "      <td>399</td>\n",
       "      <td>1677.917293</td>\n",
       "    </tr>\n",
       "    <tr>\n",
       "      <th>2</th>\n",
       "      <td>2</td>\n",
       "      <td>386</td>\n",
       "      <td>2314.204663</td>\n",
       "    </tr>\n",
       "    <tr>\n",
       "      <th>3</th>\n",
       "      <td>3</td>\n",
       "      <td>138</td>\n",
       "      <td>3429.637681</td>\n",
       "    </tr>\n",
       "    <tr>\n",
       "      <th>4</th>\n",
       "      <td>4</td>\n",
       "      <td>17</td>\n",
       "      <td>3492.176471</td>\n",
       "    </tr>\n",
       "  </tbody>\n",
       "</table>\n",
       "</div>"
      ],
      "text/plain": [
       "   number_bedrooms  count         mean\n",
       "0                0    110  1234.590909\n",
       "1                1    399  1677.917293\n",
       "2                2    386  2314.204663\n",
       "3                3    138  3429.637681\n",
       "4                4     17  3492.176471"
      ]
     },
     "metadata": {},
     "output_type": "display_data"
    },
    {
     "data": {
      "text/html": [
       "<div>\n",
       "<style scoped>\n",
       "    .dataframe tbody tr th:only-of-type {\n",
       "        vertical-align: middle;\n",
       "    }\n",
       "\n",
       "    .dataframe tbody tr th {\n",
       "        vertical-align: top;\n",
       "    }\n",
       "\n",
       "    .dataframe thead th {\n",
       "        text-align: right;\n",
       "    }\n",
       "</style>\n",
       "<table border=\"1\" class=\"dataframe\">\n",
       "  <thead>\n",
       "    <tr style=\"text-align: right;\">\n",
       "      <th></th>\n",
       "      <th>postcode</th>\n",
       "      <th>count</th>\n",
       "      <th>mean</th>\n",
       "    </tr>\n",
       "  </thead>\n",
       "  <tbody>\n",
       "    <tr>\n",
       "      <th>0</th>\n",
       "      <td>E14</td>\n",
       "      <td>54</td>\n",
       "      <td>1876.574074</td>\n",
       "    </tr>\n",
       "    <tr>\n",
       "      <th>1</th>\n",
       "      <td>W2</td>\n",
       "      <td>47</td>\n",
       "      <td>3043.425532</td>\n",
       "    </tr>\n",
       "    <tr>\n",
       "      <th>2</th>\n",
       "      <td>SE1</td>\n",
       "      <td>47</td>\n",
       "      <td>2016.595745</td>\n",
       "    </tr>\n",
       "    <tr>\n",
       "      <th>3</th>\n",
       "      <td>NW1</td>\n",
       "      <td>42</td>\n",
       "      <td>2160.190476</td>\n",
       "    </tr>\n",
       "    <tr>\n",
       "      <th>4</th>\n",
       "      <td>N1</td>\n",
       "      <td>39</td>\n",
       "      <td>1885.025641</td>\n",
       "    </tr>\n",
       "  </tbody>\n",
       "</table>\n",
       "</div>"
      ],
      "text/plain": [
       "  postcode  count         mean\n",
       "0      E14     54  1876.574074\n",
       "1       W2     47  3043.425532\n",
       "2      SE1     47  2016.595745\n",
       "3      NW1     42  2160.190476\n",
       "4       N1     39  1885.025641"
      ]
     },
     "metadata": {},
     "output_type": "display_data"
    }
   ],
   "source": [
    "# Summary of results\n",
    "display(rm.summary())\n",
    "\n",
    "# summary of results, by postcode\n",
    "display(rm.summary(by = \"postcode\").head())"
   ]
  },
  {
   "cell_type": "code",
   "execution_count": 7,
   "metadata": {},
   "outputs": [
    {
     "data": {
      "text/html": [
       "<div>\n",
       "<style scoped>\n",
       "    .dataframe tbody tr th:only-of-type {\n",
       "        vertical-align: middle;\n",
       "    }\n",
       "\n",
       "    .dataframe tbody tr th {\n",
       "        vertical-align: top;\n",
       "    }\n",
       "\n",
       "    .dataframe thead th {\n",
       "        text-align: right;\n",
       "    }\n",
       "</style>\n",
       "<table border=\"1\" class=\"dataframe\">\n",
       "  <thead>\n",
       "    <tr style=\"text-align: right;\">\n",
       "      <th></th>\n",
       "      <th>price</th>\n",
       "      <th>type</th>\n",
       "      <th>address</th>\n",
       "      <th>url</th>\n",
       "      <th>agent_url</th>\n",
       "      <th>postcode</th>\n",
       "      <th>number_bedrooms</th>\n",
       "      <th>search_date</th>\n",
       "    </tr>\n",
       "  </thead>\n",
       "  <tbody>\n",
       "    <tr>\n",
       "      <th>0</th>\n",
       "      <td>1647</td>\n",
       "      <td>2 bedroom flat</td>\n",
       "      <td>Elmhurst Mansions, Edgeley Road, London, SW4</td>\n",
       "      <td>http://www.rightmove.co.uk/property-to-rent/pr...</td>\n",
       "      <td>http://www.rightmove.co.uk/estate-agents/agent...</td>\n",
       "      <td>SW4</td>\n",
       "      <td>2</td>\n",
       "      <td>2020-11-16 19:19:23.472110</td>\n",
       "    </tr>\n",
       "    <tr>\n",
       "      <th>1</th>\n",
       "      <td>2383</td>\n",
       "      <td>1 bedroom flat</td>\n",
       "      <td>Water Street, London, E14</td>\n",
       "      <td>http://www.rightmove.co.uk/property-to-rent/pr...</td>\n",
       "      <td>http://www.rightmove.co.uk/estate-agents/agent...</td>\n",
       "      <td>E14</td>\n",
       "      <td>1</td>\n",
       "      <td>2020-11-16 19:19:23.472110</td>\n",
       "    </tr>\n",
       "    <tr>\n",
       "      <th>2</th>\n",
       "      <td>3250</td>\n",
       "      <td>2 bedroom flat</td>\n",
       "      <td>Water Street, London, E14</td>\n",
       "      <td>http://www.rightmove.co.uk/property-to-rent/pr...</td>\n",
       "      <td>http://www.rightmove.co.uk/estate-agents/agent...</td>\n",
       "      <td>E14</td>\n",
       "      <td>2</td>\n",
       "      <td>2020-11-16 19:19:23.472110</td>\n",
       "    </tr>\n",
       "    <tr>\n",
       "      <th>3</th>\n",
       "      <td>1560</td>\n",
       "      <td>2 bedroom flat</td>\n",
       "      <td>Burrells Wharf Square, London, E14</td>\n",
       "      <td>http://www.rightmove.co.uk/property-to-rent/pr...</td>\n",
       "      <td>http://www.rightmove.co.uk/estate-agents/agent...</td>\n",
       "      <td>E14</td>\n",
       "      <td>2</td>\n",
       "      <td>2020-11-16 19:19:23.472110</td>\n",
       "    </tr>\n",
       "    <tr>\n",
       "      <th>4</th>\n",
       "      <td>3878</td>\n",
       "      <td>3 bedroom flat</td>\n",
       "      <td>Tedworth Square, Chelsea, London, SW3</td>\n",
       "      <td>http://www.rightmove.co.uk/property-to-rent/pr...</td>\n",
       "      <td>http://www.rightmove.co.uk/estate-agents/agent...</td>\n",
       "      <td>SW3</td>\n",
       "      <td>3</td>\n",
       "      <td>2020-11-16 19:19:23.472110</td>\n",
       "    </tr>\n",
       "  </tbody>\n",
       "</table>\n",
       "</div>"
      ],
      "text/plain": [
       "   price            type                                       address  \\\n",
       "0   1647  2 bedroom flat  Elmhurst Mansions, Edgeley Road, London, SW4   \n",
       "1   2383  1 bedroom flat                     Water Street, London, E14   \n",
       "2   3250  2 bedroom flat                     Water Street, London, E14   \n",
       "3   1560  2 bedroom flat            Burrells Wharf Square, London, E14   \n",
       "4   3878  3 bedroom flat         Tedworth Square, Chelsea, London, SW3   \n",
       "\n",
       "                                                 url  \\\n",
       "0  http://www.rightmove.co.uk/property-to-rent/pr...   \n",
       "1  http://www.rightmove.co.uk/property-to-rent/pr...   \n",
       "2  http://www.rightmove.co.uk/property-to-rent/pr...   \n",
       "3  http://www.rightmove.co.uk/property-to-rent/pr...   \n",
       "4  http://www.rightmove.co.uk/property-to-rent/pr...   \n",
       "\n",
       "                                           agent_url postcode  \\\n",
       "0  http://www.rightmove.co.uk/estate-agents/agent...      SW4   \n",
       "1  http://www.rightmove.co.uk/estate-agents/agent...      E14   \n",
       "2  http://www.rightmove.co.uk/estate-agents/agent...      E14   \n",
       "3  http://www.rightmove.co.uk/estate-agents/agent...      E14   \n",
       "4  http://www.rightmove.co.uk/estate-agents/agent...      SW3   \n",
       "\n",
       "   number_bedrooms                search_date  \n",
       "0                2 2020-11-16 19:19:23.472110  \n",
       "1                1 2020-11-16 19:19:23.472110  \n",
       "2                2 2020-11-16 19:19:23.472110  \n",
       "3                2 2020-11-16 19:19:23.472110  \n",
       "4                3 2020-11-16 19:19:23.472110  "
      ]
     },
     "execution_count": 7,
     "metadata": {},
     "output_type": "execute_result"
    }
   ],
   "source": [
    "apartments_df = rm.get_results\n",
    "apartments_df.head()"
   ]
  },
  {
   "cell_type": "code",
   "execution_count": 8,
   "metadata": {},
   "outputs": [
    {
     "data": {
      "text/plain": [
       "2 bedroom flat         234\n",
       "1 bedroom flat         225\n",
       "1 bedroom apartment    164\n",
       "2 bedroom apartment    140\n",
       "Studio flat             91\n",
       "Name: type, dtype: int64"
      ]
     },
     "execution_count": 8,
     "metadata": {},
     "output_type": "execute_result"
    }
   ],
   "source": [
    "apartments_df.type.value_counts().head()"
   ]
  },
  {
   "cell_type": "code",
   "execution_count": 9,
   "metadata": {},
   "outputs": [
    {
     "data": {
      "text/html": [
       "<div>\n",
       "<style scoped>\n",
       "    .dataframe tbody tr th:only-of-type {\n",
       "        vertical-align: middle;\n",
       "    }\n",
       "\n",
       "    .dataframe tbody tr th {\n",
       "        vertical-align: top;\n",
       "    }\n",
       "\n",
       "    .dataframe thead th {\n",
       "        text-align: right;\n",
       "    }\n",
       "</style>\n",
       "<table border=\"1\" class=\"dataframe\">\n",
       "  <thead>\n",
       "    <tr style=\"text-align: right;\">\n",
       "      <th></th>\n",
       "      <th>price</th>\n",
       "      <th>type</th>\n",
       "      <th>address</th>\n",
       "      <th>url</th>\n",
       "      <th>agent_url</th>\n",
       "      <th>postcode</th>\n",
       "      <th>number_bedrooms</th>\n",
       "      <th>search_date</th>\n",
       "    </tr>\n",
       "  </thead>\n",
       "  <tbody>\n",
       "    <tr>\n",
       "      <th>0</th>\n",
       "      <td>1647</td>\n",
       "      <td>2 bedroom flat</td>\n",
       "      <td>Elmhurst Mansions, Edgeley Road, London, SW4</td>\n",
       "      <td>http://www.rightmove.co.uk/property-to-rent/pr...</td>\n",
       "      <td>http://www.rightmove.co.uk/estate-agents/agent...</td>\n",
       "      <td>SW4</td>\n",
       "      <td>2</td>\n",
       "      <td>2020-11-16 19:19:23.472110</td>\n",
       "    </tr>\n",
       "    <tr>\n",
       "      <th>3</th>\n",
       "      <td>1560</td>\n",
       "      <td>2 bedroom flat</td>\n",
       "      <td>Burrells Wharf Square, London, E14</td>\n",
       "      <td>http://www.rightmove.co.uk/property-to-rent/pr...</td>\n",
       "      <td>http://www.rightmove.co.uk/estate-agents/agent...</td>\n",
       "      <td>E14</td>\n",
       "      <td>2</td>\n",
       "      <td>2020-11-16 19:19:23.472110</td>\n",
       "    </tr>\n",
       "    <tr>\n",
       "      <th>7</th>\n",
       "      <td>1100</td>\n",
       "      <td>Studio flat</td>\n",
       "      <td>Saltoun Road, London, SW2 1ER</td>\n",
       "      <td>http://www.rightmove.co.uk/property-to-rent/pr...</td>\n",
       "      <td>http://www.rightmove.co.uk/estate-agents/agent...</td>\n",
       "      <td>SW2</td>\n",
       "      <td>0</td>\n",
       "      <td>2020-11-16 19:19:23.472110</td>\n",
       "    </tr>\n",
       "    <tr>\n",
       "      <th>9</th>\n",
       "      <td>1993</td>\n",
       "      <td>1 bedroom flat</td>\n",
       "      <td>Hereford Road, London, W2</td>\n",
       "      <td>http://www.rightmove.co.uk/property-to-rent/pr...</td>\n",
       "      <td>http://www.rightmove.co.uk/estate-agents/agent...</td>\n",
       "      <td>W2</td>\n",
       "      <td>1</td>\n",
       "      <td>2020-11-16 19:19:23.472110</td>\n",
       "    </tr>\n",
       "    <tr>\n",
       "      <th>10</th>\n",
       "      <td>1530</td>\n",
       "      <td>2 bedroom flat</td>\n",
       "      <td>Theatre Street, London, SW11</td>\n",
       "      <td>http://www.rightmove.co.uk/property-to-rent/pr...</td>\n",
       "      <td>http://www.rightmove.co.uk/estate-agents/agent...</td>\n",
       "      <td>SW11</td>\n",
       "      <td>2</td>\n",
       "      <td>2020-11-16 19:19:23.472110</td>\n",
       "    </tr>\n",
       "  </tbody>\n",
       "</table>\n",
       "</div>"
      ],
      "text/plain": [
       "    price            type                                       address  \\\n",
       "0    1647  2 bedroom flat  Elmhurst Mansions, Edgeley Road, London, SW4   \n",
       "3    1560  2 bedroom flat            Burrells Wharf Square, London, E14   \n",
       "7    1100     Studio flat                 Saltoun Road, London, SW2 1ER   \n",
       "9    1993  1 bedroom flat                     Hereford Road, London, W2   \n",
       "10   1530  2 bedroom flat                  Theatre Street, London, SW11   \n",
       "\n",
       "                                                  url  \\\n",
       "0   http://www.rightmove.co.uk/property-to-rent/pr...   \n",
       "3   http://www.rightmove.co.uk/property-to-rent/pr...   \n",
       "7   http://www.rightmove.co.uk/property-to-rent/pr...   \n",
       "9   http://www.rightmove.co.uk/property-to-rent/pr...   \n",
       "10  http://www.rightmove.co.uk/property-to-rent/pr...   \n",
       "\n",
       "                                            agent_url postcode  \\\n",
       "0   http://www.rightmove.co.uk/estate-agents/agent...      SW4   \n",
       "3   http://www.rightmove.co.uk/estate-agents/agent...      E14   \n",
       "7   http://www.rightmove.co.uk/estate-agents/agent...      SW2   \n",
       "9   http://www.rightmove.co.uk/estate-agents/agent...       W2   \n",
       "10  http://www.rightmove.co.uk/estate-agents/agent...     SW11   \n",
       "\n",
       "    number_bedrooms                search_date  \n",
       "0                 2 2020-11-16 19:19:23.472110  \n",
       "3                 2 2020-11-16 19:19:23.472110  \n",
       "7                 0 2020-11-16 19:19:23.472110  \n",
       "9                 1 2020-11-16 19:19:23.472110  \n",
       "10                2 2020-11-16 19:19:23.472110  "
      ]
     },
     "metadata": {},
     "output_type": "display_data"
    },
    {
     "data": {
      "text/plain": [
       "(698, 8)"
      ]
     },
     "execution_count": 9,
     "metadata": {},
     "output_type": "execute_result"
    }
   ],
   "source": [
    "max_rent = 2000\n",
    "\n",
    "apartments_df = apartments_df[apartments_df.price < max_rent]\n",
    "display(apartments_df.head())\n",
    "\n",
    "apartments_df.shape"
   ]
  },
  {
   "cell_type": "code",
   "execution_count": 10,
   "metadata": {
    "scrolled": true
   },
   "outputs": [
    {
     "data": {
      "text/plain": [
       "1    333\n",
       "2    203\n",
       "0    108\n",
       "3     49\n",
       "4      5\n",
       "Name: number_bedrooms, dtype: int64"
      ]
     },
     "metadata": {},
     "output_type": "display_data"
    },
    {
     "data": {
      "text/plain": [
       "Studio flat         90\n",
       "Studio apartment    18\n",
       "Name: type, dtype: int64"
      ]
     },
     "metadata": {},
     "output_type": "display_data"
    },
    {
     "data": {
      "text/html": [
       "<div>\n",
       "<style scoped>\n",
       "    .dataframe tbody tr th:only-of-type {\n",
       "        vertical-align: middle;\n",
       "    }\n",
       "\n",
       "    .dataframe tbody tr th {\n",
       "        vertical-align: top;\n",
       "    }\n",
       "\n",
       "    .dataframe thead th {\n",
       "        text-align: right;\n",
       "    }\n",
       "</style>\n",
       "<table border=\"1\" class=\"dataframe\">\n",
       "  <thead>\n",
       "    <tr style=\"text-align: right;\">\n",
       "      <th></th>\n",
       "      <th>price</th>\n",
       "      <th>type</th>\n",
       "      <th>address</th>\n",
       "      <th>url</th>\n",
       "      <th>agent_url</th>\n",
       "      <th>postcode</th>\n",
       "      <th>number_bedrooms</th>\n",
       "      <th>search_date</th>\n",
       "    </tr>\n",
       "  </thead>\n",
       "  <tbody>\n",
       "    <tr>\n",
       "      <th>0</th>\n",
       "      <td>1647</td>\n",
       "      <td>2 bedroom flat</td>\n",
       "      <td>Elmhurst Mansions, Edgeley Road, London, SW4</td>\n",
       "      <td>http://www.rightmove.co.uk/property-to-rent/pr...</td>\n",
       "      <td>http://www.rightmove.co.uk/estate-agents/agent...</td>\n",
       "      <td>SW4</td>\n",
       "      <td>2</td>\n",
       "      <td>2020-11-16 19:19:23.472110</td>\n",
       "    </tr>\n",
       "    <tr>\n",
       "      <th>3</th>\n",
       "      <td>1560</td>\n",
       "      <td>2 bedroom flat</td>\n",
       "      <td>Burrells Wharf Square, London, E14</td>\n",
       "      <td>http://www.rightmove.co.uk/property-to-rent/pr...</td>\n",
       "      <td>http://www.rightmove.co.uk/estate-agents/agent...</td>\n",
       "      <td>E14</td>\n",
       "      <td>2</td>\n",
       "      <td>2020-11-16 19:19:23.472110</td>\n",
       "    </tr>\n",
       "    <tr>\n",
       "      <th>9</th>\n",
       "      <td>1993</td>\n",
       "      <td>1 bedroom flat</td>\n",
       "      <td>Hereford Road, London, W2</td>\n",
       "      <td>http://www.rightmove.co.uk/property-to-rent/pr...</td>\n",
       "      <td>http://www.rightmove.co.uk/estate-agents/agent...</td>\n",
       "      <td>W2</td>\n",
       "      <td>1</td>\n",
       "      <td>2020-11-16 19:19:23.472110</td>\n",
       "    </tr>\n",
       "    <tr>\n",
       "      <th>10</th>\n",
       "      <td>1530</td>\n",
       "      <td>2 bedroom flat</td>\n",
       "      <td>Theatre Street, London, SW11</td>\n",
       "      <td>http://www.rightmove.co.uk/property-to-rent/pr...</td>\n",
       "      <td>http://www.rightmove.co.uk/estate-agents/agent...</td>\n",
       "      <td>SW11</td>\n",
       "      <td>2</td>\n",
       "      <td>2020-11-16 19:19:23.472110</td>\n",
       "    </tr>\n",
       "    <tr>\n",
       "      <th>12</th>\n",
       "      <td>1500</td>\n",
       "      <td>2 bedroom flat</td>\n",
       "      <td>Saltoun Road, London, SW2 1ER</td>\n",
       "      <td>http://www.rightmove.co.uk/property-to-rent/pr...</td>\n",
       "      <td>http://www.rightmove.co.uk/estate-agents/agent...</td>\n",
       "      <td>SW2</td>\n",
       "      <td>2</td>\n",
       "      <td>2020-11-16 19:19:23.472110</td>\n",
       "    </tr>\n",
       "  </tbody>\n",
       "</table>\n",
       "</div>"
      ],
      "text/plain": [
       "    price            type                                       address  \\\n",
       "0    1647  2 bedroom flat  Elmhurst Mansions, Edgeley Road, London, SW4   \n",
       "3    1560  2 bedroom flat            Burrells Wharf Square, London, E14   \n",
       "9    1993  1 bedroom flat                     Hereford Road, London, W2   \n",
       "10   1530  2 bedroom flat                  Theatre Street, London, SW11   \n",
       "12   1500  2 bedroom flat                 Saltoun Road, London, SW2 1ER   \n",
       "\n",
       "                                                  url  \\\n",
       "0   http://www.rightmove.co.uk/property-to-rent/pr...   \n",
       "3   http://www.rightmove.co.uk/property-to-rent/pr...   \n",
       "9   http://www.rightmove.co.uk/property-to-rent/pr...   \n",
       "10  http://www.rightmove.co.uk/property-to-rent/pr...   \n",
       "12  http://www.rightmove.co.uk/property-to-rent/pr...   \n",
       "\n",
       "                                            agent_url postcode  \\\n",
       "0   http://www.rightmove.co.uk/estate-agents/agent...      SW4   \n",
       "3   http://www.rightmove.co.uk/estate-agents/agent...      E14   \n",
       "9   http://www.rightmove.co.uk/estate-agents/agent...       W2   \n",
       "10  http://www.rightmove.co.uk/estate-agents/agent...     SW11   \n",
       "12  http://www.rightmove.co.uk/estate-agents/agent...      SW2   \n",
       "\n",
       "    number_bedrooms                search_date  \n",
       "0                 2 2020-11-16 19:19:23.472110  \n",
       "3                 2 2020-11-16 19:19:23.472110  \n",
       "9                 1 2020-11-16 19:19:23.472110  \n",
       "10                2 2020-11-16 19:19:23.472110  \n",
       "12                2 2020-11-16 19:19:23.472110  "
      ]
     },
     "metadata": {},
     "output_type": "display_data"
    }
   ],
   "source": [
    "display(apartments_df.number_bedrooms.value_counts())\n",
    "\n",
    "# There are no missing number of bedrooms, those are just studio flats! Remove them. \n",
    "display(apartments_df[apartments_df.number_bedrooms == 0].type.value_counts())\n",
    "\n",
    "apartments_df = apartments_df[apartments_df.number_bedrooms != 0]\n",
    "display(apartments_df.head())"
   ]
  },
  {
   "cell_type": "markdown",
   "metadata": {
    "heading_collapsed": true
   },
   "source": [
    "# API tutorial"
   ]
  },
  {
   "cell_type": "code",
   "execution_count": 12,
   "metadata": {
    "hidden": true
   },
   "outputs": [],
   "source": [
    "import requests"
   ]
  },
  {
   "cell_type": "code",
   "execution_count": 14,
   "metadata": {
    "hidden": true
   },
   "outputs": [
    {
     "name": "stdout",
     "output_type": "stream",
     "text": [
      "404\n"
     ]
    }
   ],
   "source": [
    "response = requests.get(\"http://api.open-notify.org/this-api-doesnt-exist\")\n",
    "print(response.status_code)"
   ]
  },
  {
   "cell_type": "code",
   "execution_count": 16,
   "metadata": {
    "hidden": true
   },
   "outputs": [
    {
     "name": "stdout",
     "output_type": "stream",
     "text": [
      "200\n",
      "{'message': 'success', 'number': 7, 'people': [{'craft': 'ISS', 'name': 'Sergey Ryzhikov'}, {'craft': 'ISS', 'name': 'Kate Rubins'}, {'craft': 'ISS', 'name': 'Sergey Kud-Sverchkov'}, {'craft': 'ISS', 'name': 'Mike Hopkins'}, {'craft': 'ISS', 'name': 'Victor Glover'}, {'craft': 'ISS', 'name': 'Shannon Walker'}, {'craft': 'ISS', 'name': 'Soichi Noguchi'}]}\n"
     ]
    }
   ],
   "source": [
    "response = requests.get(\"http://api.open-notify.org/astros.json\")\n",
    "print(response.status_code)\n",
    "print(response.json())"
   ]
  },
  {
   "cell_type": "code",
   "execution_count": 17,
   "metadata": {
    "collapsed": true,
    "hidden": true
   },
   "outputs": [
    {
     "name": "stdout",
     "output_type": "stream",
     "text": [
      "{\n",
      "    \"message\": \"success\",\n",
      "    \"number\": 7,\n",
      "    \"people\": [\n",
      "        {\n",
      "            \"craft\": \"ISS\",\n",
      "            \"name\": \"Sergey Ryzhikov\"\n",
      "        },\n",
      "        {\n",
      "            \"craft\": \"ISS\",\n",
      "            \"name\": \"Kate Rubins\"\n",
      "        },\n",
      "        {\n",
      "            \"craft\": \"ISS\",\n",
      "            \"name\": \"Sergey Kud-Sverchkov\"\n",
      "        },\n",
      "        {\n",
      "            \"craft\": \"ISS\",\n",
      "            \"name\": \"Mike Hopkins\"\n",
      "        },\n",
      "        {\n",
      "            \"craft\": \"ISS\",\n",
      "            \"name\": \"Victor Glover\"\n",
      "        },\n",
      "        {\n",
      "            \"craft\": \"ISS\",\n",
      "            \"name\": \"Shannon Walker\"\n",
      "        },\n",
      "        {\n",
      "            \"craft\": \"ISS\",\n",
      "            \"name\": \"Soichi Noguchi\"\n",
      "        }\n",
      "    ]\n",
      "}\n"
     ]
    }
   ],
   "source": [
    "import json\n",
    "\n",
    "def jprint(obj):\n",
    "    # create a formatted string of the Python JSON object\n",
    "    text = json.dumps(obj, sort_keys=True, indent=4)\n",
    "    print(text)\n",
    "\n",
    "jprint(response.json())"
   ]
  },
  {
   "cell_type": "code",
   "execution_count": 20,
   "metadata": {
    "collapsed": true,
    "hidden": true
   },
   "outputs": [
    {
     "name": "stdout",
     "output_type": "stream",
     "text": [
      "{\n",
      "    \"message\": \"success\",\n",
      "    \"request\": {\n",
      "        \"altitude\": 100,\n",
      "        \"datetime\": 1605552523,\n",
      "        \"latitude\": 40.71,\n",
      "        \"longitude\": -74.0,\n",
      "        \"passes\": 5\n",
      "    },\n",
      "    \"response\": [\n",
      "        {\n",
      "            \"duration\": 530,\n",
      "            \"risetime\": 1605568411\n",
      "        },\n",
      "        {\n",
      "            \"duration\": 654,\n",
      "            \"risetime\": 1605574130\n",
      "        },\n",
      "        {\n",
      "            \"duration\": 599,\n",
      "            \"risetime\": 1605579991\n",
      "        },\n",
      "        {\n",
      "            \"duration\": 561,\n",
      "            \"risetime\": 1605585879\n",
      "        },\n",
      "        {\n",
      "            \"duration\": 621,\n",
      "            \"risetime\": 1605591711\n",
      "        }\n",
      "    ]\n",
      "}\n",
      "[\n",
      "    {\n",
      "        \"duration\": 530,\n",
      "        \"risetime\": 1605568411\n",
      "    },\n",
      "    {\n",
      "        \"duration\": 654,\n",
      "        \"risetime\": 1605574130\n",
      "    },\n",
      "    {\n",
      "        \"duration\": 599,\n",
      "        \"risetime\": 1605579991\n",
      "    },\n",
      "    {\n",
      "        \"duration\": 561,\n",
      "        \"risetime\": 1605585879\n",
      "    },\n",
      "    {\n",
      "        \"duration\": 621,\n",
      "        \"risetime\": 1605591711\n",
      "    }\n",
      "]\n"
     ]
    }
   ],
   "source": [
    "parameters = {\n",
    "    \"lat\": 40.71,\n",
    "    \"lon\": -74\n",
    "}\n",
    "\n",
    "response = requests.get(\"http://api.open-notify.org/iss-pass.json\", params=parameters)\n",
    "jprint(response.json())\n",
    "\n",
    "pass_times = response.json()['response']\n",
    "jprint(pass_times)"
   ]
  },
  {
   "cell_type": "code",
   "execution_count": 22,
   "metadata": {
    "hidden": true
   },
   "outputs": [
    {
     "name": "stdout",
     "output_type": "stream",
     "text": [
      "[1605568411, 1605574130, 1605579991, 1605585879, 1605591711]\n"
     ]
    }
   ],
   "source": [
    "risetimes = []\n",
    "\n",
    "for d in pass_times:\n",
    "    time = d['risetime']\n",
    "    risetimes.append(time)\n",
    "\n",
    "print(risetimes)"
   ]
  },
  {
   "cell_type": "code",
   "execution_count": 23,
   "metadata": {
    "hidden": true
   },
   "outputs": [
    {
     "name": "stdout",
     "output_type": "stream",
     "text": [
      "2020-11-17 00:13:31\n",
      "2020-11-17 01:48:50\n",
      "2020-11-17 03:26:31\n",
      "2020-11-17 05:04:39\n",
      "2020-11-17 06:41:51\n"
     ]
    }
   ],
   "source": [
    "from datetime import datetime\n",
    "\n",
    "times = []\n",
    "\n",
    "for rt in risetimes:\n",
    "    time = datetime.fromtimestamp(rt)\n",
    "    times.append(time)\n",
    "    print(time)"
   ]
  },
  {
   "cell_type": "markdown",
   "metadata": {},
   "source": [
    "# Another API tutorial"
   ]
  },
  {
   "cell_type": "code",
   "execution_count": 25,
   "metadata": {},
   "outputs": [],
   "source": [
    "access_url = \"https://api.traveltimeapp.com/v4/time-filter\"\n",
    "\n",
    "# This is the application ID, you should send with each API request.\n",
    "application_ID = \"431ba267\"\n",
    "\n",
    "application_key = \"711616354625b0fd97dd08aa8fb4ffdc\""
   ]
  },
  {
   "cell_type": "code",
   "execution_count": null,
   "metadata": {},
   "outputs": [],
   "source": [
    "headers = {\n",
    "    'user-agent': USER_AGENT\n",
    "}\n",
    "\n",
    "payload = {\n",
    "    'api_key': API_KEY,\n",
    "    'method': 'chart.gettopartists',\n",
    "    'format': 'json'\n",
    "}"
   ]
  },
  {
   "cell_type": "code",
   "execution_count": 30,
   "metadata": {},
   "outputs": [],
   "source": [
    "payload = {\n",
    "    \"api_key\": application_key,\n",
    "    \n",
    "    \"locations\": [\n",
    "    {\n",
    "      \"id\": \"London center\",\n",
    "      \"coords\": {\n",
    "        \"lat\": 51.508930,\n",
    "        \"lng\": -0.131387\n",
    "      }\n",
    "    },\n",
    "    {\n",
    "      \"id\": \"Hyde Park\",\n",
    "      \"coords\": {\n",
    "        \"lat\": 51.508824,\n",
    "        \"lng\": -0.167093\n",
    "      }\n",
    "    },\n",
    "    {\n",
    "      \"id\": \"ZSL London Zoo\",\n",
    "      \"coords\": {\n",
    "        \"lat\": 51.536067,\n",
    "        \"lng\": -0.153596\n",
    "      }\n",
    "    }\n",
    "  ],\n",
    "  \"departure_searches\": [\n",
    "    {\n",
    "      \"id\": \"forward search example\",\n",
    "      \"departure_location_id\": \"London center\",\n",
    "      \"arrival_location_ids\": [\n",
    "        \"Hyde Park\",\n",
    "        \"ZSL London Zoo\"\n",
    "      ],\n",
    "      \"transportation\": {\n",
    "        \"type\": \"bus\"\n",
    "      },\n",
    "      \"departure_time\": \"2020-11-16T08:00:00Z\",\n",
    "      \"travel_time\": 1800,\n",
    "      \"properties\": [\n",
    "        \"travel_time\"\n",
    "      ],\n",
    "      \"range\": {\n",
    "        \"enabled\": True,\n",
    "        \"max_results\": 3,\n",
    "        \"width\": 600\n",
    "      }\n",
    "    }\n",
    "  ],\n",
    "  \"arrival_searches\": [\n",
    "    {\n",
    "      \"id\": \"backward search example\",\n",
    "      \"departure_location_ids\": [\n",
    "        \"Hyde Park\",\n",
    "        \"ZSL London Zoo\"\n",
    "      ],\n",
    "      \"arrival_location_id\": \"London center\",\n",
    "      \"transportation\": {\n",
    "        \"type\": \"public_transport\"\n",
    "      },\n",
    "      \"arrival_time\": \"2020-11-16T08:00:00Z\",\n",
    "      \"travel_time\": 1900,\n",
    "      \"properties\": [\n",
    "        \"travel_time\",\n",
    "        \"distance\",\n",
    "        \"distance_breakdown\",\n",
    "        \"fares\"\n",
    "      ]\n",
    "    }\n",
    "  ]\n",
    "}"
   ]
  },
  {
   "cell_type": "code",
   "execution_count": 33,
   "metadata": {},
   "outputs": [
    {
     "name": "stdout",
     "output_type": "stream",
     "text": [
      "404\n"
     ]
    }
   ],
   "source": [
    "response = requests.get(access_url, params = payload)\n",
    "print(response.status_code)"
   ]
  }
 ],
 "metadata": {
  "kernelspec": {
   "display_name": "Python 3",
   "language": "python",
   "name": "python3"
  },
  "language_info": {
   "codemirror_mode": {
    "name": "ipython",
    "version": 3
   },
   "file_extension": ".py",
   "mimetype": "text/x-python",
   "name": "python",
   "nbconvert_exporter": "python",
   "pygments_lexer": "ipython3",
   "version": "3.7.6"
  }
 },
 "nbformat": 4,
 "nbformat_minor": 4
}
